{
 "cells": [
  {
   "cell_type": "markdown",
   "id": "13d6ebb7-c72b-4705-ba53-14538a3729b4",
   "metadata": {},
   "source": [
    "# RQ2 – Public Expectations Towards Corporate Digital Responsibility (CDR)\n",
    "\n",
    "\n",
    "```\n",
    "RQ2: What expectations does the public hold towards CDR, and how do public expectations differ across Environmental, Social, and Governance (ESG) dimensions of CDR?\n",
    "```\n",
    "\n",
    "*Purpose*: Validate the 3-dimensional structure of CDR expectations (E, S, G). Compare mean levels of expectations across these dimensions."
   ]
  },
  {
   "cell_type": "code",
   "execution_count": 10,
   "id": "8e9ef58e-d66e-4ca0-a4ae-743df84608e2",
   "metadata": {},
   "outputs": [
    {
     "data": {
      "text/markdown": [
       "# 🔎 EFA results"
      ],
      "text/plain": [
       "<IPython.core.display.Markdown object>"
      ]
     },
     "metadata": {},
     "output_type": "display_data"
    },
    {
     "data": {
      "text/markdown": [
       "## Adequacy"
      ],
      "text/plain": [
       "<IPython.core.display.Markdown object>"
      ]
     },
     "metadata": {},
     "output_type": "display_data"
    },
    {
     "data": {
      "text/markdown": [
       "|   Bartlett_chi2 |   Bartlett_p |   KMO_overall |    N |   k |\n",
       "|----------------:|-------------:|--------------:|-----:|----:|\n",
       "|         33649.1 |            0 |         0.984 | 2214 |  20 |"
      ],
      "text/plain": [
       "<IPython.core.display.Markdown object>"
      ]
     },
     "metadata": {},
     "output_type": "display_data"
    },
    {
     "data": {
      "text/markdown": [
       "## Factor → ESG mapping (size-based)"
      ],
      "text/plain": [
       "<IPython.core.display.Markdown object>"
      ]
     },
     "metadata": {},
     "output_type": "display_data"
    },
    {
     "data": {
      "text/markdown": [
       "| Unlabeled_Factor   | Assigned_ESG_Label   | Tagged   |\n",
       "|:-------------------|:---------------------|:---------|\n",
       "| F1                 | Social               | SOC_05   |\n",
       "| F1                 | Social               | SOC_09   |\n",
       "| F1                 | Social               | SOC_11   |\n",
       "| F1                 | Social               | SOC_12   |\n",
       "| F1                 | Social               | GOV_13   |\n",
       "| F1                 | Social               | GOV_14   |\n",
       "| F1                 | Social               | GOV_15   |\n",
       "| F1                 | Social               | GOV_16   |\n",
       "| F1                 | Social               | GOV_17   |\n",
       "| F1                 | Social               | GOV_18   |\n",
       "| F1                 | Social               | GOV_19   |\n",
       "| F1                 | Social               | GOV_20   |\n",
       "| F2                 | Governance           | SOC_04   |\n",
       "| F2                 | Governance           | SOC_06   |\n",
       "| F2                 | Governance           | SOC_07   |\n",
       "| F2                 | Governance           | SOC_08   |\n",
       "| F2                 | Governance           | SOC_10   |\n",
       "| F3                 | Environmental        | ENV_01   |\n",
       "| F3                 | Environmental        | ENV_02   |\n",
       "| F3                 | Environmental        | ENV_03   |"
      ],
      "text/plain": [
       "<IPython.core.display.Markdown object>"
      ]
     },
     "metadata": {},
     "output_type": "display_data"
    },
    {
     "data": {
      "text/markdown": [
       "## Internal consistency (Cronbach’s α by discovered constructs)"
      ],
      "text/plain": [
       "<IPython.core.display.Markdown object>"
      ]
     },
     "metadata": {},
     "output_type": "display_data"
    },
    {
     "data": {
      "text/markdown": [
       "| EFA_Label     |   k |   Cronbach_α |\n",
       "|:--------------|----:|-------------:|\n",
       "| Environmental |   3 |        0.832 |\n",
       "| Social        |  12 |        0.96  |\n",
       "| Governance    |   5 |        0.842 |"
      ],
      "text/plain": [
       "<IPython.core.display.Markdown object>"
      ]
     },
     "metadata": {},
     "output_type": "display_data"
    },
    {
     "data": {
      "text/markdown": [
       "## Primary loadings by discovered factor"
      ],
      "text/plain": [
       "<IPython.core.display.Markdown object>"
      ]
     },
     "metadata": {},
     "output_type": "display_data"
    },
    {
     "data": {
      "text/markdown": [
       "**F1**"
      ],
      "text/plain": [
       "<IPython.core.display.Markdown object>"
      ]
     },
     "metadata": {},
     "output_type": "display_data"
    },
    {
     "data": {
      "text/markdown": [
       "| Tagged   | Item                 | Domain_Theory   |   PrimaryLoading |\n",
       "|:---------|:---------------------|:----------------|-----------------:|\n",
       "| GOV_17   | CDR attributions _17 | Governance      |            0.915 |\n",
       "| GOV_13   | CDR attributions _13 | Governance      |            0.857 |\n",
       "| GOV_14   | CDR attributions _14 | Governance      |            0.856 |\n",
       "| GOV_16   | CDR attributions _16 | Governance      |            0.828 |\n",
       "| GOV_18   | CDR attributions _18 | Governance      |            0.809 |\n",
       "| GOV_19   | CDR attributions _19 | Governance      |            0.804 |\n",
       "| SOC_12   | CDR attributions _12 | Social          |            0.783 |\n",
       "| GOV_15   | CDR attributions _15 | Governance      |            0.774 |\n",
       "| GOV_20   | CDR attributions _20 | Governance      |            0.774 |\n",
       "| SOC_11   | CDR attributions _11 | Social          |            0.714 |\n",
       "| SOC_05   | CDR attributions _5  | Social          |            0.632 |\n",
       "| SOC_09   | CDR attributions _9  | Social          |            0.559 |"
      ],
      "text/plain": [
       "<IPython.core.display.Markdown object>"
      ]
     },
     "metadata": {},
     "output_type": "display_data"
    },
    {
     "data": {
      "text/markdown": [
       "**F2**"
      ],
      "text/plain": [
       "<IPython.core.display.Markdown object>"
      ]
     },
     "metadata": {},
     "output_type": "display_data"
    },
    {
     "data": {
      "text/markdown": [
       "| Tagged   | Item                 | Domain_Theory   |   PrimaryLoading |\n",
       "|:---------|:---------------------|:----------------|-----------------:|\n",
       "| SOC_10   | CDR attributions _10 | Social          |            0.725 |\n",
       "| SOC_04   | CDR attributions _4  | Social          |            0.701 |\n",
       "| SOC_07   | CDR attributions _7  | Social          |            0.623 |\n",
       "| SOC_08   | CDR attributions _8  | Social          |            0.448 |\n",
       "| SOC_06   | CDR attributions _6  | Social          |            0.429 |"
      ],
      "text/plain": [
       "<IPython.core.display.Markdown object>"
      ]
     },
     "metadata": {},
     "output_type": "display_data"
    },
    {
     "data": {
      "text/markdown": [
       "**F3**"
      ],
      "text/plain": [
       "<IPython.core.display.Markdown object>"
      ]
     },
     "metadata": {},
     "output_type": "display_data"
    },
    {
     "data": {
      "text/markdown": [
       "| Tagged   | Item                | Domain_Theory   |   PrimaryLoading |\n",
       "|:---------|:--------------------|:----------------|-----------------:|\n",
       "| ENV_02   | CDR attributions _2 | Environmental   |            0.904 |\n",
       "| ENV_01   | CDR attributions _1 | Environmental   |            0.566 |\n",
       "| ENV_03   | CDR attributions _3 | Environmental   |            0.434 |"
      ],
      "text/plain": [
       "<IPython.core.display.Markdown object>"
      ]
     },
     "metadata": {},
     "output_type": "display_data"
    },
    {
     "data": {
      "text/markdown": [
       "# ✅ CFA model comparison (3F vs 2ND vs 2F vs 1F)"
      ],
      "text/plain": [
       "<IPython.core.display.Markdown object>"
      ]
     },
     "metadata": {},
     "output_type": "display_data"
    },
    {
     "data": {
      "text/markdown": [
       "| Model            |    Chi2 |   df |   p |      CFI |      TLI |    RMSEA |     SRMR |   AIC |    BIC |    N |\n",
       "|:-----------------|--------:|-----:|----:|---------:|---------:|---------:|---------:|------:|-------:|-----:|\n",
       "| 3F_first_order   | 1152.92 |  170 |   0 | 0.970737 | 0.967294 | 0.051114 | 0.102437 | 78.96 | 307.06 | 2214 |\n",
       "| 2ND_order        | 1070.11 |  168 |   0 | 0.973143 | 0.969625 | 0.049259 | 0.111039 | 83.03 | 322.54 | 2214 |\n",
       "| 2F_Env_vs_SocGov | 1328.24 |  171 |   0 | 0.965547 | 0.961719 | 0.0553   | 0.111772 | 76.8  | 299.2  | 2214 |\n",
       "| 1F_all_items     | 1634.85 |  171 |   0 | 0.956418 | 0.951576 | 0.062196 | 0.116429 | 76.52 | 298.92 | 2214 |"
      ],
      "text/plain": [
       "<IPython.core.display.Markdown object>"
      ]
     },
     "metadata": {},
     "output_type": "display_data"
    },
    {
     "data": {
      "text/markdown": [
       "### Model: `3F_first_order`"
      ],
      "text/plain": [
       "<IPython.core.display.Markdown object>"
      ]
     },
     "metadata": {},
     "output_type": "display_data"
    },
    {
     "data": {
      "text/markdown": [
       "**Specification**"
      ],
      "text/plain": [
       "<IPython.core.display.Markdown object>"
      ]
     },
     "metadata": {},
     "output_type": "display_data"
    },
    {
     "data": {
      "text/markdown": [
       "```text\n",
       "Environmental =~ ENV_01 + ENV_02 + ENV_03\n",
       "Social        =~ SOC_04 + SOC_05 + SOC_06 + SOC_07 + SOC_08 + SOC_09 + SOC_10 + SOC_11 + SOC_12\n",
       "Governance    =~ GOV_13 + GOV_14 + GOV_15 + GOV_16 + GOV_17 + GOV_18 + GOV_19 + GOV_20\n",
       "Environmental ~~ 1*Environmental\n",
       "Social ~~ 1*Social\n",
       "Governance ~~ 1*Governance\n",
       "Environmental ~~ Social\n",
       "Environmental ~~ Governance\n",
       "Social ~~ Governance\n",
       "```"
      ],
      "text/plain": [
       "<IPython.core.display.Markdown object>"
      ]
     },
     "metadata": {},
     "output_type": "display_data"
    },
    {
     "data": {
      "text/markdown": [
       "**Fit indices**"
      ],
      "text/plain": [
       "<IPython.core.display.Markdown object>"
      ]
     },
     "metadata": {},
     "output_type": "display_data"
    },
    {
     "data": {
      "text/markdown": [
       "|    Chi2 |   df |   p |      CFI |      TLI |    RMSEA |     SRMR |   AIC |    BIC |    N |\n",
       "|--------:|-----:|----:|---------:|---------:|---------:|---------:|------:|-------:|-----:|\n",
       "| 1152.92 |  170 |   0 | 0.970737 | 0.967294 | 0.051114 | 0.102437 | 78.96 | 307.06 | 2214 |"
      ],
      "text/plain": [
       "<IPython.core.display.Markdown object>"
      ]
     },
     "metadata": {},
     "output_type": "display_data"
    },
    {
     "data": {
      "text/markdown": [
       "**Factor correlations (standardized)**"
      ],
      "text/plain": [
       "<IPython.core.display.Markdown object>"
      ]
     },
     "metadata": {},
     "output_type": "display_data"
    },
    {
     "data": {
      "text/markdown": [
       "| Pair                     |        r |\n",
       "|:-------------------------|---------:|\n",
       "| Environmental–Social     | 0.903194 |\n",
       "| Environmental–Governance | 0.861663 |"
      ],
      "text/plain": [
       "<IPython.core.display.Markdown object>"
      ]
     },
     "metadata": {},
     "output_type": "display_data"
    },
    {
     "data": {
      "text/markdown": [
       "**Standardized loadings — Environmental**"
      ],
      "text/plain": [
       "<IPython.core.display.Markdown object>"
      ]
     },
     "metadata": {},
     "output_type": "display_data"
    },
    {
     "data": {
      "text/markdown": [
       "| Tagged   | Item                | Domain_Theory   |   Std_Loading |\n",
       "|:---------|:--------------------|:----------------|--------------:|\n",
       "| ENV_03   | CDR attributions _3 | Environmental   |       1.16046 |\n",
       "| ENV_02   | CDR attributions _2 | Environmental   |       1.12273 |\n",
       "| ENV_01   | CDR attributions _1 | Environmental   |       1       |"
      ],
      "text/plain": [
       "<IPython.core.display.Markdown object>"
      ]
     },
     "metadata": {},
     "output_type": "display_data"
    },
    {
     "data": {
      "text/markdown": [
       "**Standardized loadings — Social**"
      ],
      "text/plain": [
       "<IPython.core.display.Markdown object>"
      ]
     },
     "metadata": {},
     "output_type": "display_data"
    },
    {
     "data": {
      "text/markdown": [
       "| Tagged   | Item                 | Domain_Theory   |   Std_Loading |\n",
       "|:---------|:---------------------|:----------------|--------------:|\n",
       "| SOC_09   | CDR attributions _9  | Social          |      1.14569  |\n",
       "| SOC_05   | CDR attributions _5  | Social          |      1.13378  |\n",
       "| SOC_11   | CDR attributions _11 | Social          |      1.11293  |\n",
       "| SOC_12   | CDR attributions _12 | Social          |      1.09872  |\n",
       "| SOC_06   | CDR attributions _6  | Social          |      1.02436  |\n",
       "| SOC_04   | CDR attributions _4  | Social          |      1        |\n",
       "| SOC_08   | CDR attributions _8  | Social          |      0.989093 |\n",
       "| SOC_07   | CDR attributions _7  | Social          |      0.966107 |\n",
       "| SOC_10   | CDR attributions _10 | Social          |      0.922303 |"
      ],
      "text/plain": [
       "<IPython.core.display.Markdown object>"
      ]
     },
     "metadata": {},
     "output_type": "display_data"
    },
    {
     "data": {
      "text/markdown": [
       "**Standardized loadings — Governance**"
      ],
      "text/plain": [
       "<IPython.core.display.Markdown object>"
      ]
     },
     "metadata": {},
     "output_type": "display_data"
    },
    {
     "data": {
      "text/markdown": [
       "| Tagged   | Item                 | Domain_Theory   |   Std_Loading |\n",
       "|:---------|:---------------------|:----------------|--------------:|\n",
       "| GOV_14   | CDR attributions _14 | Governance      |       1.12986 |\n",
       "| GOV_17   | CDR attributions _17 | Governance      |       1.12695 |\n",
       "| GOV_18   | CDR attributions _18 | Governance      |       1.11746 |\n",
       "| GOV_15   | CDR attributions _15 | Governance      |       1.11532 |\n",
       "| GOV_19   | CDR attributions _19 | Governance      |       1.1135  |\n",
       "| GOV_20   | CDR attributions _20 | Governance      |       1.09743 |\n",
       "| GOV_16   | CDR attributions _16 | Governance      |       1.09614 |\n",
       "| GOV_13   | CDR attributions _13 | Governance      |       1       |"
      ],
      "text/plain": [
       "<IPython.core.display.Markdown object>"
      ]
     },
     "metadata": {},
     "output_type": "display_data"
    },
    {
     "data": {
      "text/markdown": [
       "> ⚠️ **Heywood check**: |standardized loading| > 1"
      ],
      "text/plain": [
       "<IPython.core.display.Markdown object>"
      ]
     },
     "metadata": {},
     "output_type": "display_data"
    },
    {
     "data": {
      "text/markdown": [
       "| Factor        | Tagged   | Item                 | Domain_Theory   |   Std_Loading |\n",
       "|:--------------|:---------|:---------------------|:----------------|--------------:|\n",
       "| Environmental | ENV_02   | CDR attributions _2  | Environmental   |       1.12273 |\n",
       "| Environmental | ENV_03   | CDR attributions _3  | Environmental   |       1.16046 |\n",
       "| Social        | SOC_05   | CDR attributions _5  | Social          |       1.13378 |\n",
       "| Social        | SOC_06   | CDR attributions _6  | Social          |       1.02436 |\n",
       "| Social        | SOC_09   | CDR attributions _9  | Social          |       1.14569 |\n",
       "| Social        | SOC_11   | CDR attributions _11 | Social          |       1.11293 |\n",
       "| Social        | SOC_12   | CDR attributions _12 | Social          |       1.09872 |\n",
       "| Governance    | GOV_14   | CDR attributions _14 | Governance      |       1.12986 |\n",
       "| Governance    | GOV_15   | CDR attributions _15 | Governance      |       1.11532 |\n",
       "| Governance    | GOV_16   | CDR attributions _16 | Governance      |       1.09614 |\n",
       "| Governance    | GOV_17   | CDR attributions _17 | Governance      |       1.12695 |\n",
       "| Governance    | GOV_18   | CDR attributions _18 | Governance      |       1.11746 |\n",
       "| Governance    | GOV_19   | CDR attributions _19 | Governance      |       1.1135  |\n",
       "| Governance    | GOV_20   | CDR attributions _20 | Governance      |       1.09743 |"
      ],
      "text/plain": [
       "<IPython.core.display.Markdown object>"
      ]
     },
     "metadata": {},
     "output_type": "display_data"
    },
    {
     "data": {
      "text/markdown": [
       "### Model: `2ND_order`"
      ],
      "text/plain": [
       "<IPython.core.display.Markdown object>"
      ]
     },
     "metadata": {},
     "output_type": "display_data"
    },
    {
     "data": {
      "text/markdown": [
       "**Specification**"
      ],
      "text/plain": [
       "<IPython.core.display.Markdown object>"
      ]
     },
     "metadata": {},
     "output_type": "display_data"
    },
    {
     "data": {
      "text/markdown": [
       "```text\n",
       "Environmental =~ ENV_01 + ENV_02 + ENV_03\n",
       "Social        =~ SOC_04 + SOC_05 + SOC_06 + SOC_07 + SOC_08 + SOC_09 + SOC_10 + SOC_11 + SOC_12\n",
       "Governance    =~ GOV_13 + GOV_14 + GOV_15 + GOV_16 + GOV_17 + GOV_18 + GOV_19 + GOV_20\n",
       "CDR =~ Environmental + Social + Governance\n",
       "CDR ~~ 1*CDR\n",
       "```"
      ],
      "text/plain": [
       "<IPython.core.display.Markdown object>"
      ]
     },
     "metadata": {},
     "output_type": "display_data"
    },
    {
     "data": {
      "text/markdown": [
       "**Fit indices**"
      ],
      "text/plain": [
       "<IPython.core.display.Markdown object>"
      ]
     },
     "metadata": {},
     "output_type": "display_data"
    },
    {
     "data": {
      "text/markdown": [
       "|    Chi2 |   df |   p |      CFI |      TLI |    RMSEA |     SRMR |   AIC |    BIC |    N |\n",
       "|--------:|-----:|----:|---------:|---------:|---------:|---------:|------:|-------:|-----:|\n",
       "| 1070.11 |  168 |   0 | 0.973143 | 0.969625 | 0.049259 | 0.111039 | 83.03 | 322.54 | 2214 |"
      ],
      "text/plain": [
       "<IPython.core.display.Markdown object>"
      ]
     },
     "metadata": {},
     "output_type": "display_data"
    },
    {
     "data": {
      "text/markdown": [
       "**Factor correlations (standardized)**"
      ],
      "text/plain": [
       "<IPython.core.display.Markdown object>"
      ]
     },
     "metadata": {},
     "output_type": "display_data"
    },
    {
     "data": {
      "text/markdown": [
       "_n/a (no freely estimated factor covariances in this model)_"
      ],
      "text/plain": [
       "<IPython.core.display.Markdown object>"
      ]
     },
     "metadata": {},
     "output_type": "display_data"
    },
    {
     "data": {
      "text/markdown": [
       "**Standardized loadings — Environmental**"
      ],
      "text/plain": [
       "<IPython.core.display.Markdown object>"
      ]
     },
     "metadata": {},
     "output_type": "display_data"
    },
    {
     "data": {
      "text/markdown": [
       "| Tagged   | Item                | Domain_Theory   |   Std_Loading |\n",
       "|:---------|:--------------------|:----------------|--------------:|\n",
       "| ENV_03   | CDR attributions _3 | Environmental   |       1.08303 |\n",
       "| ENV_02   | CDR attributions _2 | Environmental   |       1.05032 |\n",
       "| ENV_01   | CDR attributions _1 | Environmental   |       1       |"
      ],
      "text/plain": [
       "<IPython.core.display.Markdown object>"
      ]
     },
     "metadata": {},
     "output_type": "display_data"
    },
    {
     "data": {
      "text/markdown": [
       "**Standardized loadings — Social**"
      ],
      "text/plain": [
       "<IPython.core.display.Markdown object>"
      ]
     },
     "metadata": {},
     "output_type": "display_data"
    },
    {
     "data": {
      "text/markdown": [
       "| Tagged   | Item                 | Domain_Theory   |   Std_Loading |\n",
       "|:---------|:---------------------|:----------------|--------------:|\n",
       "| SOC_09   | CDR attributions _9  | Social          |       1.39159 |\n",
       "| SOC_05   | CDR attributions _5  | Social          |       1.37775 |\n",
       "| SOC_11   | CDR attributions _11 | Social          |       1.35159 |\n",
       "| SOC_12   | CDR attributions _12 | Social          |       1.3351  |\n",
       "| SOC_06   | CDR attributions _6  | Social          |       1.24284 |\n",
       "| SOC_08   | CDR attributions _8  | Social          |       1.20049 |\n",
       "| SOC_07   | CDR attributions _7  | Social          |       1.1722  |\n",
       "| SOC_10   | CDR attributions _10 | Social          |       1.1198  |\n",
       "| SOC_04   | CDR attributions _4  | Social          |       1       |"
      ],
      "text/plain": [
       "<IPython.core.display.Markdown object>"
      ]
     },
     "metadata": {},
     "output_type": "display_data"
    },
    {
     "data": {
      "text/markdown": [
       "**Standardized loadings — Governance**"
      ],
      "text/plain": [
       "<IPython.core.display.Markdown object>"
      ]
     },
     "metadata": {},
     "output_type": "display_data"
    },
    {
     "data": {
      "text/markdown": [
       "| Tagged   | Item                 | Domain_Theory   |   Std_Loading |\n",
       "|:---------|:---------------------|:----------------|--------------:|\n",
       "| GOV_14   | CDR attributions _14 | Governance      |       1.05092 |\n",
       "| GOV_17   | CDR attributions _17 | Governance      |       1.04827 |\n",
       "| GOV_18   | CDR attributions _18 | Governance      |       1.03954 |\n",
       "| GOV_15   | CDR attributions _15 | Governance      |       1.03752 |\n",
       "| GOV_19   | CDR attributions _19 | Governance      |       1.03574 |\n",
       "| GOV_20   | CDR attributions _20 | Governance      |       1.02113 |\n",
       "| GOV_16   | CDR attributions _16 | Governance      |       1.0198  |\n",
       "| GOV_13   | CDR attributions _13 | Governance      |       1       |"
      ],
      "text/plain": [
       "<IPython.core.display.Markdown object>"
      ]
     },
     "metadata": {},
     "output_type": "display_data"
    },
    {
     "data": {
      "text/markdown": [
       "> ⚠️ **Heywood check**: |standardized loading| > 1"
      ],
      "text/plain": [
       "<IPython.core.display.Markdown object>"
      ]
     },
     "metadata": {},
     "output_type": "display_data"
    },
    {
     "data": {
      "text/markdown": [
       "| Factor        | Tagged   | Item                 | Domain_Theory   |   Std_Loading |\n",
       "|:--------------|:---------|:---------------------|:----------------|--------------:|\n",
       "| Environmental | ENV_02   | CDR attributions _2  | Environmental   |       1.05032 |\n",
       "| Environmental | ENV_03   | CDR attributions _3  | Environmental   |       1.08303 |\n",
       "| Social        | SOC_05   | CDR attributions _5  | Social          |       1.37775 |\n",
       "| Social        | SOC_06   | CDR attributions _6  | Social          |       1.24284 |\n",
       "| Social        | SOC_07   | CDR attributions _7  | Social          |       1.1722  |\n",
       "| Social        | SOC_08   | CDR attributions _8  | Social          |       1.20049 |\n",
       "| Social        | SOC_09   | CDR attributions _9  | Social          |       1.39159 |\n",
       "| Social        | SOC_10   | CDR attributions _10 | Social          |       1.1198  |\n",
       "| Social        | SOC_11   | CDR attributions _11 | Social          |       1.35159 |\n",
       "| Social        | SOC_12   | CDR attributions _12 | Social          |       1.3351  |\n",
       "| Governance    | GOV_14   | CDR attributions _14 | Governance      |       1.05092 |\n",
       "| Governance    | GOV_15   | CDR attributions _15 | Governance      |       1.03752 |\n",
       "| Governance    | GOV_16   | CDR attributions _16 | Governance      |       1.0198  |\n",
       "| Governance    | GOV_17   | CDR attributions _17 | Governance      |       1.04827 |\n",
       "| Governance    | GOV_18   | CDR attributions _18 | Governance      |       1.03954 |\n",
       "| Governance    | GOV_19   | CDR attributions _19 | Governance      |       1.03574 |\n",
       "| Governance    | GOV_20   | CDR attributions _20 | Governance      |       1.02113 |"
      ],
      "text/plain": [
       "<IPython.core.display.Markdown object>"
      ]
     },
     "metadata": {},
     "output_type": "display_data"
    },
    {
     "data": {
      "text/markdown": [
       "### Model: `2F_Env_vs_SocGov`"
      ],
      "text/plain": [
       "<IPython.core.display.Markdown object>"
      ]
     },
     "metadata": {},
     "output_type": "display_data"
    },
    {
     "data": {
      "text/markdown": [
       "**Specification**"
      ],
      "text/plain": [
       "<IPython.core.display.Markdown object>"
      ]
     },
     "metadata": {},
     "output_type": "display_data"
    },
    {
     "data": {
      "text/markdown": [
       "```text\n",
       "Env =~ ENV_01 + ENV_02 + ENV_03\n",
       "Sg  =~ SOC_04 + SOC_05 + SOC_06 + SOC_07 + SOC_08 + SOC_09 + SOC_10 + SOC_11 + SOC_12 + GOV_13 + GOV_14 + GOV_15 + GOV_16 + GOV_17 + GOV_18 + GOV_19 + GOV_20\n",
       "Env ~~ 1*Env\n",
       "Sg ~~ 1*Sg\n",
       "Env ~~ Sg\n",
       "```"
      ],
      "text/plain": [
       "<IPython.core.display.Markdown object>"
      ]
     },
     "metadata": {},
     "output_type": "display_data"
    },
    {
     "data": {
      "text/markdown": [
       "**Fit indices**"
      ],
      "text/plain": [
       "<IPython.core.display.Markdown object>"
      ]
     },
     "metadata": {},
     "output_type": "display_data"
    },
    {
     "data": {
      "text/markdown": [
       "|    Chi2 |   df |   p |      CFI |      TLI |   RMSEA |     SRMR |   AIC |   BIC |    N |\n",
       "|--------:|-----:|----:|---------:|---------:|--------:|---------:|------:|------:|-----:|\n",
       "| 1328.24 |  171 |   0 | 0.965547 | 0.961719 |  0.0553 | 0.111772 |  76.8 | 299.2 | 2214 |"
      ],
      "text/plain": [
       "<IPython.core.display.Markdown object>"
      ]
     },
     "metadata": {},
     "output_type": "display_data"
    },
    {
     "data": {
      "text/markdown": [
       "**Factor correlations (standardized)**"
      ],
      "text/plain": [
       "<IPython.core.display.Markdown object>"
      ]
     },
     "metadata": {},
     "output_type": "display_data"
    },
    {
     "data": {
      "text/markdown": [
       "| Pair                 |        r |\n",
       "|:---------------------|---------:|\n",
       "| Environmental–SocGov | 0.893699 |"
      ],
      "text/plain": [
       "<IPython.core.display.Markdown object>"
      ]
     },
     "metadata": {},
     "output_type": "display_data"
    },
    {
     "data": {
      "text/markdown": [
       "**Standardized loadings — Environmental**"
      ],
      "text/plain": [
       "<IPython.core.display.Markdown object>"
      ]
     },
     "metadata": {},
     "output_type": "display_data"
    },
    {
     "data": {
      "text/markdown": [
       "| Tagged   | Item                | Domain_Theory   |   Std_Loading |\n",
       "|:---------|:--------------------|:----------------|--------------:|\n",
       "| ENV_03   | CDR attributions _3 | Environmental   |       1.19801 |\n",
       "| ENV_02   | CDR attributions _2 | Environmental   |       1.15564 |\n",
       "| ENV_01   | CDR attributions _1 | Environmental   |       1       |"
      ],
      "text/plain": [
       "<IPython.core.display.Markdown object>"
      ]
     },
     "metadata": {},
     "output_type": "display_data"
    },
    {
     "data": {
      "text/markdown": [
       "**Standardized loadings — SocGov**"
      ],
      "text/plain": [
       "<IPython.core.display.Markdown object>"
      ]
     },
     "metadata": {},
     "output_type": "display_data"
    },
    {
     "data": {
      "text/markdown": [
       "| Tagged   | Item                 | Domain_Theory   |   Std_Loading |\n",
       "|:---------|:---------------------|:----------------|--------------:|\n",
       "| SOC_09   | CDR attributions _9  | Social          |      1.18643  |\n",
       "| GOV_14   | CDR attributions _14 | Governance      |      1.18025  |\n",
       "| SOC_05   | CDR attributions _5  | Social          |      1.18024  |\n",
       "| GOV_17   | CDR attributions _17 | Governance      |      1.17612  |\n",
       "| SOC_11   | CDR attributions _11 | Social          |      1.16882  |\n",
       "| GOV_18   | CDR attributions _18 | Governance      |      1.16827  |\n",
       "| GOV_15   | CDR attributions _15 | Governance      |      1.16753  |\n",
       "| GOV_19   | CDR attributions _19 | Governance      |      1.16484  |\n",
       "| SOC_12   | CDR attributions _12 | Social          |      1.15301  |\n",
       "| GOV_20   | CDR attributions _20 | Governance      |      1.1501   |\n",
       "| GOV_16   | CDR attributions _16 | Governance      |      1.14494  |\n",
       "| GOV_13   | CDR attributions _13 | Governance      |      1.12417  |\n",
       "| SOC_06   | CDR attributions _6  | Social          |      1.04726  |\n",
       "| SOC_08   | CDR attributions _8  | Social          |      1.01408  |\n",
       "| SOC_04   | CDR attributions _4  | Social          |      1        |\n",
       "| SOC_07   | CDR attributions _7  | Social          |      0.992682 |\n",
       "| SOC_10   | CDR attributions _10 | Social          |      0.933749 |"
      ],
      "text/plain": [
       "<IPython.core.display.Markdown object>"
      ]
     },
     "metadata": {},
     "output_type": "display_data"
    },
    {
     "data": {
      "text/markdown": [
       "> ⚠️ **Heywood check**: |standardized loading| > 1"
      ],
      "text/plain": [
       "<IPython.core.display.Markdown object>"
      ]
     },
     "metadata": {},
     "output_type": "display_data"
    },
    {
     "data": {
      "text/markdown": [
       "| Factor        | Tagged   | Item                 | Domain_Theory   |   Std_Loading |\n",
       "|:--------------|:---------|:---------------------|:----------------|--------------:|\n",
       "| Environmental | ENV_02   | CDR attributions _2  | Environmental   |       1.15564 |\n",
       "| Environmental | ENV_03   | CDR attributions _3  | Environmental   |       1.19801 |\n",
       "| SocGov        | SOC_05   | CDR attributions _5  | Social          |       1.18024 |\n",
       "| SocGov        | SOC_06   | CDR attributions _6  | Social          |       1.04726 |\n",
       "| SocGov        | SOC_08   | CDR attributions _8  | Social          |       1.01408 |\n",
       "| SocGov        | SOC_09   | CDR attributions _9  | Social          |       1.18643 |\n",
       "| SocGov        | SOC_11   | CDR attributions _11 | Social          |       1.16882 |\n",
       "| SocGov        | SOC_12   | CDR attributions _12 | Social          |       1.15301 |\n",
       "| SocGov        | GOV_13   | CDR attributions _13 | Governance      |       1.12417 |\n",
       "| SocGov        | GOV_14   | CDR attributions _14 | Governance      |       1.18025 |\n",
       "| SocGov        | GOV_15   | CDR attributions _15 | Governance      |       1.16753 |\n",
       "| SocGov        | GOV_16   | CDR attributions _16 | Governance      |       1.14494 |\n",
       "| SocGov        | GOV_17   | CDR attributions _17 | Governance      |       1.17612 |\n",
       "| SocGov        | GOV_18   | CDR attributions _18 | Governance      |       1.16827 |\n",
       "| SocGov        | GOV_19   | CDR attributions _19 | Governance      |       1.16484 |\n",
       "| SocGov        | GOV_20   | CDR attributions _20 | Governance      |       1.1501  |"
      ],
      "text/plain": [
       "<IPython.core.display.Markdown object>"
      ]
     },
     "metadata": {},
     "output_type": "display_data"
    },
    {
     "data": {
      "text/markdown": [
       "### Model: `1F_all_items`"
      ],
      "text/plain": [
       "<IPython.core.display.Markdown object>"
      ]
     },
     "metadata": {},
     "output_type": "display_data"
    },
    {
     "data": {
      "text/markdown": [
       "**Specification**"
      ],
      "text/plain": [
       "<IPython.core.display.Markdown object>"
      ]
     },
     "metadata": {},
     "output_type": "display_data"
    },
    {
     "data": {
      "text/markdown": [
       "```text\n",
       "CDR =~ ENV_01 + ENV_02 + ENV_03 + SOC_04 + SOC_05 + SOC_06 + SOC_07 + SOC_08 + SOC_09 + SOC_10 + SOC_11 + SOC_12 + GOV_13 + GOV_14 + GOV_15 + GOV_16 + GOV_17 + GOV_18 + GOV_19 + GOV_20\n",
       "CDR ~~ 1*CDR\n",
       "```"
      ],
      "text/plain": [
       "<IPython.core.display.Markdown object>"
      ]
     },
     "metadata": {},
     "output_type": "display_data"
    },
    {
     "data": {
      "text/markdown": [
       "**Fit indices**"
      ],
      "text/plain": [
       "<IPython.core.display.Markdown object>"
      ]
     },
     "metadata": {},
     "output_type": "display_data"
    },
    {
     "data": {
      "text/markdown": [
       "|    Chi2 |   df |   p |      CFI |      TLI |    RMSEA |     SRMR |   AIC |    BIC |    N |\n",
       "|--------:|-----:|----:|---------:|---------:|---------:|---------:|------:|-------:|-----:|\n",
       "| 1634.85 |  171 |   0 | 0.956418 | 0.951576 | 0.062196 | 0.116429 | 76.52 | 298.92 | 2214 |"
      ],
      "text/plain": [
       "<IPython.core.display.Markdown object>"
      ]
     },
     "metadata": {},
     "output_type": "display_data"
    },
    {
     "data": {
      "text/markdown": [
       "**Factor correlations (standardized)**"
      ],
      "text/plain": [
       "<IPython.core.display.Markdown object>"
      ]
     },
     "metadata": {},
     "output_type": "display_data"
    },
    {
     "data": {
      "text/markdown": [
       "_n/a (no freely estimated factor covariances in this model)_"
      ],
      "text/plain": [
       "<IPython.core.display.Markdown object>"
      ]
     },
     "metadata": {},
     "output_type": "display_data"
    },
    {
     "data": {
      "text/markdown": [
       "**Standardized loadings — CDR**"
      ],
      "text/plain": [
       "<IPython.core.display.Markdown object>"
      ]
     },
     "metadata": {},
     "output_type": "display_data"
    },
    {
     "data": {
      "text/markdown": [
       "| Tagged   | Item                 | Domain_Theory   |   Std_Loading |\n",
       "|:---------|:---------------------|:----------------|--------------:|\n",
       "| SOC_09   | CDR attributions _9  | Social          |      1.167    |\n",
       "| SOC_05   | CDR attributions _5  | Social          |      1.1594   |\n",
       "| GOV_14   | CDR attributions _14 | Governance      |      1.15797  |\n",
       "| GOV_17   | CDR attributions _17 | Governance      |      1.15377  |\n",
       "| GOV_18   | CDR attributions _18 | Governance      |      1.14766  |\n",
       "| SOC_11   | CDR attributions _11 | Social          |      1.14738  |\n",
       "| GOV_15   | CDR attributions _15 | Governance      |      1.14703  |\n",
       "| GOV_19   | CDR attributions _19 | Governance      |      1.14216  |\n",
       "| SOC_12   | CDR attributions _12 | Social          |      1.13248  |\n",
       "| GOV_20   | CDR attributions _20 | Governance      |      1.12936  |\n",
       "| GOV_16   | CDR attributions _16 | Governance      |      1.12355  |\n",
       "| ENV_03   | CDR attributions _3  | Environmental   |      1.105    |\n",
       "| GOV_13   | CDR attributions _13 | Governance      |      1.10223  |\n",
       "| SOC_06   | CDR attributions _6  | Social          |      1.03249  |\n",
       "| ENV_02   | CDR attributions _2  | Environmental   |      1.03215  |\n",
       "| ENV_01   | CDR attributions _1  | Environmental   |      1        |\n",
       "| SOC_08   | CDR attributions _8  | Social          |      0.999556 |\n",
       "| SOC_07   | CDR attributions _7  | Social          |      0.976048 |\n",
       "| SOC_10   | CDR attributions _10 | Social          |      0.919352 |\n",
       "| SOC_04   | CDR attributions _4  | Social          |      0.823715 |"
      ],
      "text/plain": [
       "<IPython.core.display.Markdown object>"
      ]
     },
     "metadata": {},
     "output_type": "display_data"
    },
    {
     "data": {
      "text/markdown": [
       "> ⚠️ **Heywood check**: |standardized loading| > 1"
      ],
      "text/plain": [
       "<IPython.core.display.Markdown object>"
      ]
     },
     "metadata": {},
     "output_type": "display_data"
    },
    {
     "data": {
      "text/markdown": [
       "| Factor   | Tagged   | Item                 | Domain_Theory   |   Std_Loading |\n",
       "|:---------|:---------|:---------------------|:----------------|--------------:|\n",
       "| CDR      | ENV_02   | CDR attributions _2  | Environmental   |       1.03215 |\n",
       "| CDR      | ENV_03   | CDR attributions _3  | Environmental   |       1.105   |\n",
       "| CDR      | SOC_05   | CDR attributions _5  | Social          |       1.1594  |\n",
       "| CDR      | SOC_06   | CDR attributions _6  | Social          |       1.03249 |\n",
       "| CDR      | SOC_09   | CDR attributions _9  | Social          |       1.167   |\n",
       "| CDR      | SOC_11   | CDR attributions _11 | Social          |       1.14738 |\n",
       "| CDR      | SOC_12   | CDR attributions _12 | Social          |       1.13248 |\n",
       "| CDR      | GOV_13   | CDR attributions _13 | Governance      |       1.10223 |\n",
       "| CDR      | GOV_14   | CDR attributions _14 | Governance      |       1.15797 |\n",
       "| CDR      | GOV_15   | CDR attributions _15 | Governance      |       1.14703 |\n",
       "| CDR      | GOV_16   | CDR attributions _16 | Governance      |       1.12355 |\n",
       "| CDR      | GOV_17   | CDR attributions _17 | Governance      |       1.15377 |\n",
       "| CDR      | GOV_18   | CDR attributions _18 | Governance      |       1.14766 |\n",
       "| CDR      | GOV_19   | CDR attributions _19 | Governance      |       1.14216 |\n",
       "| CDR      | GOV_20   | CDR attributions _20 | Governance      |       1.12936 |"
      ],
      "text/plain": [
       "<IPython.core.display.Markdown object>"
      ]
     },
     "metadata": {},
     "output_type": "display_data"
    },
    {
     "data": {
      "text/markdown": [
       "# 📘 Codebook-anchored summary (EFA + CFA)"
      ],
      "text/plain": [
       "<IPython.core.display.Markdown object>"
      ]
     },
     "metadata": {},
     "output_type": "display_data"
    },
    {
     "data": {
      "text/markdown": [
       "| Item                 | Tagged   | Theory_Domain   | EFA_Factor_Label   |   PrimaryLoading |   Std_Loading | Alignment   | Item_NL_short                                                                                                                                                                                                                                                                               |\n",
       "|:---------------------|:---------|:----------------|:-------------------|-----------------:|--------------:|:------------|:--------------------------------------------------------------------------------------------------------------------------------------------------------------------------------------------------------------------------------------------------------------------------------------------|\n",
       "| CDR attributions _1  | ENV_01   | Environmental   | Environmental      |            0.566 |         1     | ✅ Match    | Bedrijven moeten de ecologische voetafdruk van de digitale technologie die ze gebruiken verkleinen.                                                                                                                                                                                         |\n",
       "| CDR attributions _2  | ENV_02   | Environmental   | Environmental      |            0.904 |         1.123 | ✅ Match    | Bedrijven moeten ervoor zorgen dat digitale technologieën zo min mogelijk energie en water verbruiken, bijvoorbeeld bij het gebruik van datacenters of productie van apparaten.                                                                                                             |\n",
       "| CDR attributions _3  | ENV_03   | Environmental   | Environmental      |            0.434 |         1.16  | ✅ Match    | Bedrijven moeten hun gebruikte digitale apparaten op een milieuvriendelijke manier inzamelen, laten recyclen of hergebruiken, in plaats van ze zomaar weg te gooien.                                                                                                                        |\n",
       "| CDR attributions _4  | SOC_04   | Social          | Governance         |            0.701 |         1     | ➡️ Shifted  | Bedrijven moeten samenwerken om digitale tools te ontwikkelen die het leven van mensen verbeteren.                                                                                                                                                                                          |\n",
       "| CDR attributions _6  | SOC_06   | Social          | Governance         |            0.429 |         1.024 | ➡️ Shifted  | Bedrijven moeten digitale tools zo ontwerpen dat ze het lichamelijke en mentale welzijn van gebruikers beschermen.                                                                                                                                                                          |\n",
       "| CDR attributions _7  | SOC_07   | Social          | Governance         |            0.623 |         0.966 | ➡️ Shifted  | Bedrijven moeten ervoor zorgen dat gebruikers digitale tools gemakkelijk kunnen gebruiken in hun dagelijkse leven, bijvoorbeeld door toegang te geven, ondersteuning te bieden, en het leren van digitale vaardigheden te stimuleren.                                                       |\n",
       "| CDR attributions _8  | SOC_08   | Social          | Governance         |            0.448 |         0.989 | ➡️ Shifted  | Bedrijven moeten rekening houden met de negatieve gevolgen van automatisering voor werknemers, zoals baanverlies of veranderingen in hun functie.                                                                                                                                           |\n",
       "| CDR attributions _10 | SOC_10   | Social          | Governance         |            0.725 |         0.922 | ➡️ Shifted  | Bedrijven moeten zorgen dat iedereen gelijke toegang heeft tot digitale tools, ook mensen uit gemarginaliseerde groepen of mensen zonder goede internetverbinding.                                                                                                                          |\n",
       "| CDR attributions _13 | GOV_13   | Governance      | Social             |            0.857 |         1     | ➡️ Shifted  | Bedrijven moeten ervoor zorgen dat hun proces van dataopslag goed functioneert.                                                                                                                                                                                                             |\n",
       "| CDR attributions _14 | GOV_14   | Governance      | Social             |            0.856 |         1.13  | ➡️ Shifted  | Bedrijven moeten transparant zijn over de manier waarop ze gegevens verzamelen, opslaan en gebruiken en deze informatie delen met consumenten en regelgevers.                                                                                                                               |\n",
       "| CDR attributions _15 | GOV_15   | Governance      | Social             |            0.774 |         1.115 | ➡️ Shifted  | Bedrijven moeten interne richtlijnen en beleidslijnen ontwikkelen die voldoen aan de gegevensbeschermingswetten in hun regio.                                                                                                                                                               |\n",
       "| CDR attributions _16 | GOV_16   | Governance      | Social             |            0.828 |         1.096 | ➡️ Shifted  | Bedrijven moeten een duidelijk en begrijpelijk intern beleid opstellen over wie de eigenaar is van gegevens en hoe gegevens privé worden gehouden.                                                                                                                                          |\n",
       "| CDR attributions _17 | GOV_17   | Governance      | Social             |            0.915 |         1.127 | ➡️ Shifted  | Bedrijven moeten altijd op een verantwoorde manier omgaan met gegevens, zelfs als ze niet de eigenaar zijn van de gegevens.                                                                                                                                                                 |\n",
       "| CDR attributions _18 | GOV_18   | Governance      | Social             |            0.809 |         1.117 | ➡️ Shifted  | Bedrijven moeten interne richtlijnen en maatregelen opstellen en volgen om de veilige verwerking van gegevens te garanderen.                                                                                                                                                                |\n",
       "| CDR attributions _19 | GOV_19   | Governance      | Social             |            0.804 |         1.114 | ➡️ Shifted  | Bedrijven moeten duidelijk communiceren waar gebruikersgegevens worden opgeslagen, en waarom ze daar zijn opgeslagen.                                                                                                                                                                       |\n",
       "| CDR attributions _20 | GOV_20   | Governance      | Social             |            0.774 |         1.097 | ➡️ Shifted  | Bedrijven moeten de wet volgen en duidelijke regels maken om kunstmatige intelligentie te controleren.                                                                                                                                                                                      |\n",
       "| CDR attributions _5  | SOC_05   | Social          | Social             |            0.632 |         1.134 | ✅ Match    | Bedrijven moeten hun digitale tools en platforms op verantwoorde wijze monitoren en beheren om schadelijke of ongepaste inhoud te voorkomen.                                                                                                                                                |\n",
       "| CDR attributions _9  | SOC_09   | Social          | Social             |            0.559 |         1.146 | ✅ Match    | Bedrijven moeten ervoor zorgen dat de kunstmatige intelligentie die in het bedrijf wordt gebruikt, eerlijk is en geen enkele groep discrimineert.                                                                                                                                           |\n",
       "| CDR attributions _11 | SOC_11   | Social          | Social             |            0.714 |         1.113 | ✅ Match    | Bedrijven moeten het verzamelen en gebruiken van persoonlijke gegevens via digitale technologieën, zoals camera’s, trackingsoftware, en online monitoring, beperken. Daarnaast moeten zij duidelijk uitleggen hoe deze gegevens worden gebruikt om de privacy van gebruikers te beschermen. |\n",
       "| CDR attributions _12 | SOC_12   | Social          | Social             |            0.783 |         1.099 | ✅ Match    | Bedrijven moeten fundamentele mensenrechten, zoals online privacy en vrijheid van meningsuiting, handhaven.                                                                                                                                                                                 |"
      ],
      "text/plain": [
       "<IPython.core.display.Markdown object>"
      ]
     },
     "metadata": {},
     "output_type": "display_data"
    },
    {
     "data": {
      "text/markdown": [
       "> ✅ RQ2 complete — EFA → CFA → Reliability → Codebook summary"
      ],
      "text/plain": [
       "<IPython.core.display.Markdown object>"
      ]
     },
     "metadata": {},
     "output_type": "display_data"
    },
    {
     "data": {
      "text/markdown": [
       "- Scree: `ASCOR-FMG-14116-CDR (Projectfolder)/analysis_out/08_rq2_efa_scree.png`"
      ],
      "text/plain": [
       "<IPython.core.display.Markdown object>"
      ]
     },
     "metadata": {},
     "output_type": "display_data"
    },
    {
     "data": {
      "text/markdown": [
       "- EFA adequacy: `ASCOR-FMG-14116-CDR (Projectfolder)/analysis_out/08_rq2_efa_adequacy.csv`"
      ],
      "text/plain": [
       "<IPython.core.display.Markdown object>"
      ]
     },
     "metadata": {},
     "output_type": "display_data"
    },
    {
     "data": {
      "text/markdown": [
       "- EFA loadings (detailed): `ASCOR-FMG-14116-CDR (Projectfolder)/analysis_out/08_rq2_efa_loadings_detailed.csv`"
      ],
      "text/plain": [
       "<IPython.core.display.Markdown object>"
      ]
     },
     "metadata": {},
     "output_type": "display_data"
    },
    {
     "data": {
      "text/markdown": [
       "- EFA mapping: `ASCOR-FMG-14116-CDR (Projectfolder)/analysis_out/08_rq2_item_mapping.csv`"
      ],
      "text/plain": [
       "<IPython.core.display.Markdown object>"
      ]
     },
     "metadata": {},
     "output_type": "display_data"
    },
    {
     "data": {
      "text/markdown": [
       "- EFA α by label: `ASCOR-FMG-14116-CDR (Projectfolder)/analysis_out/08_rq2_efa_alpha_by_label.csv`"
      ],
      "text/plain": [
       "<IPython.core.display.Markdown object>"
      ]
     },
     "metadata": {},
     "output_type": "display_data"
    },
    {
     "data": {
      "text/markdown": [
       "- Codebook summary: `ASCOR-FMG-14116-CDR (Projectfolder)/analysis_out/08_rq2_codebook_anchored.csv` / `ASCOR-FMG-14116-CDR (Projectfolder)/analysis_out/08_rq2_codebook_anchored.md`"
      ],
      "text/plain": [
       "<IPython.core.display.Markdown object>"
      ]
     },
     "metadata": {},
     "output_type": "display_data"
    },
    {
     "data": {
      "text/markdown": [
       "- CFA comparison: `ASCOR-FMG-14116-CDR (Projectfolder)/analysis_out/rq2_cfa_model_comparison.csv`"
      ],
      "text/plain": [
       "<IPython.core.display.Markdown object>"
      ]
     },
     "metadata": {},
     "output_type": "display_data"
    },
    {
     "data": {
      "text/markdown": [
       "- Reliability: `ASCOR-FMG-14116-CDR (Projectfolder)/analysis_out/02_reliability.csv`"
      ],
      "text/plain": [
       "<IPython.core.display.Markdown object>"
      ]
     },
     "metadata": {},
     "output_type": "display_data"
    },
    {
     "data": {
      "text/markdown": [
       "- Scores: `ASCOR-FMG-14116-CDR (Projectfolder)/analysis_out/08_rq2_domain_scores.csv`"
      ],
      "text/plain": [
       "<IPython.core.display.Markdown object>"
      ]
     },
     "metadata": {},
     "output_type": "display_data"
    },
    {
     "data": {
      "text/markdown": [
       "- Descriptives: `ASCOR-FMG-14116-CDR (Projectfolder)/analysis_out/03_descriptives.csv`"
      ],
      "text/plain": [
       "<IPython.core.display.Markdown object>"
      ]
     },
     "metadata": {},
     "output_type": "display_data"
    },
    {
     "data": {
      "text/markdown": [
       "- Means plot: `ASCOR-FMG-14116-CDR (Projectfolder)/analysis_out/08_rq2_means.png`"
      ],
      "text/plain": [
       "<IPython.core.display.Markdown object>"
      ]
     },
     "metadata": {},
     "output_type": "display_data"
    }
   ],
   "source": [
    "# ================================================\n",
    "# RQ2 — EFA + CFA Model Suite (3F / 2ND / 2F / 1F)\n",
    "# + Reliability + Codebook-Anchored Summary\n",
    "# Pretty notebook printing (no Styler/Jinja)\n",
    "# Research Drive I/O via rd_io\n",
    "# ================================================\n",
    "import warnings, sys, subprocess, re, io, posixpath\n",
    "warnings.filterwarnings(\"ignore\")\n",
    "\n",
    "import numpy as np\n",
    "import pandas as pd\n",
    "from IPython.display import Markdown, display\n",
    "\n",
    "# ---------- Research Drive I/O ----------\n",
    "from rd_io import (\n",
    "    OUT_DIR, rd_join,\n",
    "    rd_read_parquet_df, rd_write_csv_df, rd_write_markdown, rd_upload_bytes,\n",
    "    rd_read_text, rd_read_csv_df\n",
    ")\n",
    "\n",
    "# ---------- Install/load modeling deps ----------\n",
    "def _ensure_semopy():\n",
    "    try:\n",
    "        from semopy import Model as SemopyModel  # noqa\n",
    "        from semopy.stats import (  # noqa\n",
    "            get_baseline_model, calc_dof, calc_chi2, calc_cfi, calc_tli, calc_rmsea, calc_aic, calc_bic\n",
    "        )\n",
    "    except Exception:\n",
    "        subprocess.check_call([sys.executable, \"-m\", \"pip\", \"install\", \"semopy>=2.3.0\", \"--quiet\"])\n",
    "\n",
    "def _ensure_factor_analyzer():\n",
    "    try:\n",
    "        from factor_analyzer import FactorAnalyzer  # noqa\n",
    "    except Exception:\n",
    "        subprocess.check_call([sys.executable, \"-m\", \"pip\", \"install\", \"factor_analyzer>=0.5.0\", \"--quiet\"])\n",
    "\n",
    "_ensure_semopy()\n",
    "_ensure_factor_analyzer()\n",
    "\n",
    "from semopy import Model as SemopyModel\n",
    "from semopy.stats import (\n",
    "    get_baseline_model, calc_dof, calc_chi2, calc_cfi, calc_tli, calc_rmsea, calc_aic, calc_bic\n",
    ")\n",
    "from factor_analyzer import FactorAnalyzer, calculate_kmo, calculate_bartlett_sphericity\n",
    "\n",
    "# ---------- Config ----------\n",
    "IN_PARQUET = rd_join(OUT_DIR, \"cdr_keep_after_attn.parquet\")\n",
    "\n",
    "ITEM_META = [\n",
    "    (\"CDR attributions _1\",  \"Environmental\"),\n",
    "    (\"CDR attributions _2\",  \"Environmental\"),\n",
    "    (\"CDR attributions _3\",  \"Environmental\"),\n",
    "    (\"CDR attributions _4\",  \"Social\"),\n",
    "    (\"CDR attributions _5\",  \"Social\"),\n",
    "    (\"CDR attributions _6\",  \"Social\"),\n",
    "    (\"CDR attributions _7\",  \"Social\"),\n",
    "    (\"CDR attributions _8\",  \"Social\"),\n",
    "    (\"CDR attributions _9\",  \"Social\"),\n",
    "    (\"CDR attributions _10\", \"Social\"),\n",
    "    (\"CDR attributions _11\", \"Social\"),\n",
    "    (\"CDR attributions _12\", \"Social\"),\n",
    "    (\"CDR attributions _13\", \"Governance\"),\n",
    "    (\"CDR attributions _14\", \"Governance\"),\n",
    "    (\"CDR attributions _15\", \"Governance\"),\n",
    "    (\"CDR attributions _16\", \"Governance\"),\n",
    "    (\"CDR attributions _17\", \"Governance\"),\n",
    "    (\"CDR attributions _18\", \"Governance\"),\n",
    "    (\"CDR attributions _19\", \"Governance\"),\n",
    "    (\"CDR attributions _20\", \"Governance\"),\n",
    "]\n",
    "DOMAIN_PREFIX = {\"Environmental\": \"ENV\", \"Social\": \"SOC\", \"Governance\": \"GOV\"}\n",
    "EXPECTED_COUNTS = {\"Environmental\": 3, \"Social\": 9, \"Governance\": 8}\n",
    "\n",
    "# ---------- Utils ----------\n",
    "def md_table(df: pd.DataFrame, index: bool = False) -> str:\n",
    "    try:\n",
    "        return df.to_markdown(index=index)\n",
    "    except Exception:\n",
    "        return df.round(6).to_string(index=index)\n",
    "\n",
    "def save_md(name, text):\n",
    "    remote = rd_join(OUT_DIR, name)\n",
    "    rd_write_markdown(text, remote)\n",
    "    return remote\n",
    "\n",
    "def save_csv(name, df):\n",
    "    remote = rd_join(OUT_DIR, name)\n",
    "    rd_write_csv_df(df, remote, index=False)\n",
    "    return remote\n",
    "\n",
    "def savefig_remote(fig, remote_name, fmt=None, dpi=200):\n",
    "    import matplotlib.pyplot as plt\n",
    "    fmt = fmt or remote_name.split(\".\")[-1].lower()\n",
    "    buf = io.BytesIO()\n",
    "    fig.savefig(buf, format=fmt, dpi=dpi, bbox_inches=\"tight\")\n",
    "    ct = \"image/png\" if fmt == \"png\" else \"image/svg+xml\" if fmt == \"svg\" else \"application/octet-stream\"\n",
    "    rd_upload_bytes(rd_join(OUT_DIR, remote_name), buf.getvalue(), ct)\n",
    "    buf.close()\n",
    "    plt.close(fig)\n",
    "\n",
    "def match_columns(expected, cols):\n",
    "    out = {}\n",
    "    norm = {c: re.sub(r\"[\\s_]+\", \"\", str(c)).lower() for c in cols}\n",
    "    for name in expected:\n",
    "        target = re.sub(r\"[\\s_]+\", \"\", name).lower()\n",
    "        found = [c for c, n in norm.items() if n == target]\n",
    "        if found:\n",
    "            out[name] = found[0]\n",
    "    return out\n",
    "\n",
    "def fallback_match_missing(missing_expected, all_cols):\n",
    "    add = {}\n",
    "    all_norm = {c: re.sub(r\"\\s+\", \" \", str(c)).strip() for c in all_cols}\n",
    "    for name in missing_expected:\n",
    "        m = re.search(r\"(\\d+)$\", name)\n",
    "        num = int(m.group(1)) if m else None\n",
    "        if num is not None:\n",
    "            pattern = re.compile(rf\"^cdr\\s*attributions\\s*[_ ]?\\s*{num}\\s*$\", re.I)\n",
    "            for col, col_norm in all_norm.items():\n",
    "                if pattern.match(col_norm):\n",
    "                    add[name] = col\n",
    "                    break\n",
    "    return add\n",
    "\n",
    "def cronbach_alpha(df_items: pd.DataFrame) -> float:\n",
    "    X = df_items.dropna()\n",
    "    if X.shape[1] < 2 or X.shape[0] == 0:\n",
    "        return np.nan\n",
    "    k = X.shape[1]\n",
    "    var_sum = X.var(axis=0, ddof=1).sum()\n",
    "    total_var = X.sum(axis=1).var(ddof=1)\n",
    "    if total_var == 0:\n",
    "        return np.nan\n",
    "    return float((k / (k - 1)) * (1 - var_sum / total_var))\n",
    "\n",
    "def row_mean_with_min(df_items: pd.DataFrame, min_prop: float = 0.5) -> pd.Series:\n",
    "    need = int(np.ceil(min_prop * df_items.shape[1])) if df_items.shape[1] else 0\n",
    "    valid = df_items.notna().sum(axis=1) if df_items.shape[1] else pd.Series(0, index=df_items.index)\n",
    "    m = df_items.mean(axis=1) if df_items.shape[1] else pd.Series(np.nan, index=df_items.index)\n",
    "    m[valid < need] = np.nan\n",
    "    return m\n",
    "\n",
    "def _norm_cols(df: pd.DataFrame) -> pd.DataFrame:\n",
    "    d = df.copy()\n",
    "    d.columns = [re.sub(r\"[^a-z0-9]+\", \"\", str(c)).lower() for c in d.columns]\n",
    "    return d\n",
    "\n",
    "def extract_std(m: SemopyModel, used_cols: list[str]):\n",
    "    est = m.inspect(std_est=True)  # standardized solution\n",
    "    d = _norm_cols(est)\n",
    "    # identify key columns\n",
    "    lhs = next(c for c in [\"lhs\",\"lval\",\"left\",\"from\",\"source\"] if c in d.columns)\n",
    "    rhs = next(c for c in [\"rhs\",\"rval\",\"right\",\"to\",\"target\"] if c in d.columns)\n",
    "    op  = next(c for c in [\"op\",\"operator\",\"relation\"] if c in d.columns)\n",
    "    cand = [\"eststd\",\"stdest\",\"stdestimate\",\"standardizedestimate\",\"std\",\"estimate\",\"est\",\"value\"]\n",
    "    val = next((c for c in cand if c in d.columns), None)\n",
    "    if val is None:\n",
    "        id_cols = {lhs, rhs, op}\n",
    "        num_cols = [c for c in d.columns if c not in id_cols and pd.api.types.is_numeric_dtype(d[c])]\n",
    "        val = num_cols[0] if num_cols else None\n",
    "        if val is None:\n",
    "            return pd.DataFrame(columns=[\"Factor\",\"Tagged\",\"Std_Loading\"]), pd.DataFrame(columns=[\"Pair\",\"r\"])\n",
    "\n",
    "    all_names = set(d[lhs]).union(set(d[rhs]))\n",
    "    fac_keys = [x for x in all_names if str(x).lower() in {\"environmental\",\"social\",\"governance\",\"cdr\",\"env\",\"sg\"}]\n",
    "    fac_map = {k.lower(): str(k) for k in set(map(str, fac_keys))}\n",
    "    used = set(used_cols)\n",
    "\n",
    "    # loadings: indicator ~ factor\n",
    "    rows = d[(d[op] == \"~\") & d[rhs].str.lower().isin(fac_map.keys()) & d[lhs].isin(used)].copy()\n",
    "    def _cap(name):\n",
    "        nm = fac_map.get(name.lower(), name)\n",
    "        if nm.lower() == \"env\": return \"Environmental\"\n",
    "        if nm.lower() == \"sg\":  return \"SocGov\"\n",
    "        return nm[:1].upper() + nm[1:]\n",
    "    rows[\"Factor\"] = rows[rhs].map(_cap)\n",
    "    rows[\"Tagged\"] = rows[lhs]\n",
    "    rows[\"Std_Loading\"] = pd.to_numeric(rows[val], errors=\"coerce\")\n",
    "    loads = rows[[\"Factor\",\"Tagged\",\"Std_Loading\"]].dropna()\n",
    "\n",
    "    # factor correlations\n",
    "    cov_rows = d[(d[op] == \"~~\") & d[lhs].str.lower().isin(fac_map.keys()) & d[rhs].str.lower().isin(fac_map.keys())]\n",
    "    cors = []\n",
    "    for _, r in cov_rows.iterrows():\n",
    "        f1 = _cap(str(r[lhs]))\n",
    "        f2 = _cap(str(r[rhs]))\n",
    "        if f1 < f2:\n",
    "            try:\n",
    "                rv = float(r[val])\n",
    "            except Exception:\n",
    "                rv = np.nan\n",
    "            cors.append({\"Pair\": f\"{f1}–{f2}\", \"r\": rv})\n",
    "    cor_df = pd.DataFrame(cors)\n",
    "    return loads, cor_df\n",
    "\n",
    "def fit_and_fitstats(model_str: str, data: pd.DataFrame, obj=\"MLW\"):\n",
    "    m = SemopyModel(model_str)\n",
    "    m.fit(data, obj=obj)\n",
    "    chi2, pval = calc_chi2(m)\n",
    "    dof = calc_dof(m)\n",
    "    base = get_baseline_model(m)\n",
    "    try:\n",
    "        base.fit(obj=m.last_result.name_obj)\n",
    "    except KeyError:\n",
    "        base.fit(obj=\"MLW\")\n",
    "    chi2_base, _ = calc_chi2(base)\n",
    "    dof_base = calc_dof(base)\n",
    "    rmsea = calc_rmsea(m, chi2, dof)\n",
    "    cfi = calc_cfi(m, dof, chi2, dof_base, chi2_base)\n",
    "    tli = calc_tli(m, dof, chi2, dof_base, chi2_base)\n",
    "    # SRMR from residual correlations\n",
    "    obs_corr = data.corr().to_numpy()\n",
    "    pred_cov, _ = m.calc_sigma()\n",
    "    sd = np.sqrt(np.diag(pred_cov))\n",
    "    pred_corr = pred_cov / np.outer(sd, sd)\n",
    "    iu = np.triu_indices_from(obs_corr)\n",
    "    resid = obs_corr[iu] - pred_corr[iu]\n",
    "    srmr = float(np.sqrt(np.nanmean(resid**2)))\n",
    "    aic, bic = calc_aic(m), calc_bic(m)\n",
    "    fit = dict(Chi2=chi2, df=dof, p=pval, CFI=cfi, TLI=tli, RMSEA=rmsea, SRMR=srmr, AIC=aic, BIC=bic, N=data.shape[0])\n",
    "    return m, fit\n",
    "\n",
    "def tagged_to_domain(tag: str) -> str:\n",
    "    t = str(tag)\n",
    "    if t.startswith(\"ENV_\"): return \"Environmental\"\n",
    "    if t.startswith(\"SOC_\"): return \"Social\"\n",
    "    if t.startswith(\"GOV_\"): return \"Governance\"\n",
    "    return \"\"\n",
    "\n",
    "# ================================================\n",
    "# 1) Load data + Build tagged matrix X\n",
    "# ================================================\n",
    "df = rd_read_parquet_df(IN_PARQUET)\n",
    "\n",
    "# build meta table (no regex inside f-strings)\n",
    "meta_rows = []\n",
    "for n, d in ITEM_META:\n",
    "    m = re.search(r\"(\\d+)$\", n)\n",
    "    num = int(m.group(1)) if m else None\n",
    "    if num is not None:\n",
    "        tag = f\"{DOMAIN_PREFIX[d]}_{num:02d}\"\n",
    "    else:\n",
    "        clean = re.sub(r\"[^A-Za-z0-9]+\", \"\", n)\n",
    "        tag = f\"{DOMAIN_PREFIX[d]}_{clean}\"\n",
    "    meta_rows.append({\"Item\": n, \"Domain_Theory\": d, \"Num\": num, \"Tagged\": tag})\n",
    "meta = pd.DataFrame(meta_rows)\n",
    "\n",
    "# tolerant column map\n",
    "col_map = match_columns(meta[\"Item\"].tolist(), df.columns)\n",
    "missing = [it for it in meta[\"Item\"] if it not in col_map]\n",
    "if missing:\n",
    "    col_map.update(fallback_match_missing(missing, df.columns))\n",
    "present = [it for it in meta[\"Item\"] if it in col_map]\n",
    "if not present:\n",
    "    raise RuntimeError(\"No expected CDR items found in dataframe columns.\")\n",
    "\n",
    "# numeric matrix X\n",
    "X = pd.DataFrame(index=df.index)\n",
    "for _, r in meta[meta[\"Item\"].isin(present)].iterrows():\n",
    "    X[r[\"Tagged\"]] = pd.to_numeric(df[col_map[r[\"Item\"]]], errors=\"coerce\")\n",
    "\n",
    "# items present per domain (avoid identification issues later)\n",
    "ITEMS = {\"Environmental\": [], \"Social\": [], \"Governance\": []}\n",
    "for c in X.columns:\n",
    "    dom = tagged_to_domain(c)\n",
    "    if dom:\n",
    "        ITEMS[dom].append(c)\n",
    "\n",
    "for dom in [\"Environmental\",\"Social\",\"Governance\"]:\n",
    "    if len(ITEMS[dom]) < 2:\n",
    "        raise RuntimeError(f\"CFA identification error: '{dom}' has {len(ITEMS[dom])} indicators (need ≥2).\")\n",
    "\n",
    "ALL_COLS = ITEMS[\"Environmental\"] + ITEMS[\"Social\"] + ITEMS[\"Governance\"]\n",
    "data_all = X[ALL_COLS].dropna()\n",
    "\n",
    "# ================================================\n",
    "# 2) EFA (discovery, oblimin MINRES) + Adequacy + Scree + Mapping + α\n",
    "# ================================================\n",
    "efa_input = X.dropna()\n",
    "chi2, p_bart = calculate_bartlett_sphericity(efa_input)\n",
    "kmo_all, kmo_model = calculate_kmo(efa_input)\n",
    "adequacy_df = pd.DataFrame([{\n",
    "    \"Bartlett_chi2\": round(chi2, 2),\n",
    "    \"Bartlett_p\": round(p_bart, 6),\n",
    "    \"KMO_overall\": round(float(kmo_model), 3),\n",
    "    \"N\": int(efa_input.shape[0]),\n",
    "    \"k\": int(efa_input.shape[1]),\n",
    "}])\n",
    "save_csv(\"08_rq2_efa_adequacy.csv\", adequacy_df)\n",
    "save_md(\"08_rq2_efa_adequacy.md\", \"# RQ2 — EFA Adequacy\\n\\n\" + md_table(adequacy_df, index=False))\n",
    "\n",
    "# Scree\n",
    "try:\n",
    "    import matplotlib.pyplot as plt\n",
    "    fa0 = FactorAnalyzer(rotation=None, method=\"minres\")\n",
    "    fa0.fit(efa_input)\n",
    "    ev, _ = fa0.get_eigenvalues()\n",
    "    fig = plt.figure(figsize=(5, 3))\n",
    "    ax = fig.gca()\n",
    "    xs = range(1, len(ev) + 1)\n",
    "    ax.scatter(xs, ev)\n",
    "    ax.plot(xs, ev)\n",
    "    ax.set_title(\"Scree Plot — CDR Expectations (EFA)\")\n",
    "    ax.set_xlabel(\"Factor\")\n",
    "    ax.set_ylabel(\"Eigenvalue\")\n",
    "    ax.axhline(y=1, linestyle=\"--\")\n",
    "    fig.tight_layout()\n",
    "    savefig_remote(fig, \"08_rq2_efa_scree.png\")\n",
    "except Exception:\n",
    "    pass\n",
    "\n",
    "# EFA with 3 factors (oblimin)\n",
    "efa3 = FactorAnalyzer(n_factors=3, rotation=\"oblimin\", method=\"minres\")\n",
    "efa3.fit(efa_input)\n",
    "Lmat = pd.DataFrame(efa3.loadings_, index=efa_input.columns, columns=[\"F1\", \"F2\", \"F3\"])\n",
    "\n",
    "# Primary assignments\n",
    "assign = {f: [] for f in [\"F1\", \"F2\", \"F3\"]}\n",
    "prim_rows = []\n",
    "for item, row in Lmat.iterrows():\n",
    "    best = row.abs().idxmax()\n",
    "    assign[best].append(item)\n",
    "    prim_rows.append({\"Tagged\": item, \"PrimaryFactor\": best, \"PrimaryLoading\": float(row[best])})\n",
    "prim = pd.DataFrame(prim_rows)\n",
    "\n",
    "# EFA loadings + meta\n",
    "efa_loadings = Lmat.reset_index().rename(columns={\"index\": \"Tagged\"})\n",
    "efa_loadings = efa_loadings.merge(meta[[\"Tagged\",\"Item\",\"Domain_Theory\",\"Num\"]], on=\"Tagged\", how=\"left\")\n",
    "efa_loadings = efa_loadings.merge(prim, on=\"Tagged\", how=\"left\")\n",
    "efa_loadings[\"abs_Load\"] = efa_loadings[\"PrimaryLoading\"].abs()\n",
    "efa_loadings = efa_loadings.sort_values([\"PrimaryFactor\", \"abs_Load\"], ascending=[True, False]).drop(columns=[\"abs_Load\"])\n",
    "save_csv(\"08_rq2_efa_loadings_detailed.csv\", efa_loadings)\n",
    "\n",
    "# size-based label alignment to ESG\n",
    "def label_factors_by_size(assignments, expected_counts):\n",
    "    sizes = {k: len(v) for k, v in assignments.items()}\n",
    "    remaining = set(assignments.keys())\n",
    "    mapping = {}\n",
    "    for target_label, target_size in sorted(expected_counts.items(), key=lambda x: -x[1]):\n",
    "        best_fac = min(remaining, key=lambda fac: abs(sizes.get(fac, 0) - target_size))\n",
    "        mapping[best_fac] = target_label\n",
    "        remaining.remove(best_fac)\n",
    "    if remaining:\n",
    "        leftover_label = list(set(expected_counts.keys()) - set(mapping.values()))[0]\n",
    "        mapping[remaining.pop()] = leftover_label\n",
    "    return mapping\n",
    "\n",
    "size_map = label_factors_by_size(assign, EXPECTED_COUNTS)\n",
    "map_rows = []\n",
    "for fac, esg in size_map.items():\n",
    "    for it in assign.get(fac, []):\n",
    "        map_rows.append({\"Unlabeled_Factor\": fac, \"Assigned_ESG_Label\": esg, \"Tagged\": it})\n",
    "save_csv(\"08_rq2_item_mapping.csv\", pd.DataFrame(map_rows))\n",
    "\n",
    "# ---------- EFA Pretty print (FIRST) ----------\n",
    "display(Markdown(\"# 🔎 EFA results\"))\n",
    "display(Markdown(\"## Adequacy\"))\n",
    "display(Markdown(md_table(adequacy_df, index=False)))\n",
    "\n",
    "display(Markdown(\"## Factor → ESG mapping (size-based)\"))\n",
    "efa_map_df_inline = pd.DataFrame(map_rows) if map_rows else pd.DataFrame(columns=[\"Unlabeled_Factor\",\"Assigned_ESG_Label\",\"Tagged\"])\n",
    "display(Markdown(md_table(efa_map_df_inline, index=False) if not efa_map_df_inline.empty else \"_No EFA mapping available._\"))\n",
    "\n",
    "# Cronbach’s α by discovered labels\n",
    "efa_sets = {lab: [] for lab in [\"Environmental\",\"Social\",\"Governance\"]}\n",
    "for fac, lab in size_map.items():\n",
    "    efa_sets[lab].extend(assign.get(fac, []))\n",
    "\n",
    "alpha_rows_efa = []\n",
    "for dom in [\"Environmental\",\"Social\",\"Governance\"]:\n",
    "    items = efa_sets.get(dom, [])\n",
    "    frame = efa_input[items] if items else pd.DataFrame(index=efa_input.index)\n",
    "    a = cronbach_alpha(frame) if frame.shape[1] >= 2 else np.nan\n",
    "    alpha_rows_efa.append({\"EFA_Label\": dom, \"k\": len(items), \"Cronbach_α\": (round(a, 3) if pd.notna(a) else np.nan)})\n",
    "alpha_efa_df = pd.DataFrame(alpha_rows_efa)\n",
    "save_csv(\"08_rq2_efa_alpha_by_label.csv\", alpha_efa_df)\n",
    "\n",
    "display(Markdown(\"## Internal consistency (Cronbach’s α by discovered constructs)\"))\n",
    "display(Markdown(md_table(alpha_efa_df, index=False)))\n",
    "\n",
    "display(Markdown(\"## Primary loadings by discovered factor\"))\n",
    "for f in [\"F1\",\"F2\",\"F3\"]:\n",
    "    blk = efa_loadings[efa_loadings[\"PrimaryFactor\"] == f][[\"Tagged\",\"Item\",\"Domain_Theory\",\"PrimaryLoading\"]]\n",
    "    blk = blk.sort_values(\"PrimaryLoading\", key=lambda s: s.abs(), ascending=False)\n",
    "    display(Markdown(f\"**{f}**\"))\n",
    "    display(Markdown(md_table(blk.round(3), index=False)))\n",
    "\n",
    "# ================================================\n",
    "# 3) CFA model suite (SECOND)\n",
    "# ================================================\n",
    "def model_3f(items):\n",
    "    return \"\\n\".join([\n",
    "        f\"Environmental =~ {' + '.join(items['Environmental'])}\",\n",
    "        f\"Social        =~ {' + '.join(items['Social'])}\",\n",
    "        f\"Governance    =~ {' + '.join(items['Governance'])}\",\n",
    "        \"Environmental ~~ 1*Environmental\",\n",
    "        \"Social ~~ 1*Social\",\n",
    "        \"Governance ~~ 1*Governance\",\n",
    "        \"Environmental ~~ Social\",\n",
    "        \"Environmental ~~ Governance\",\n",
    "        \"Social ~~ Governance\",\n",
    "    ])\n",
    "\n",
    "def model_2nd(items):\n",
    "    return \"\\n\".join([\n",
    "        f\"Environmental =~ {' + '.join(items['Environmental'])}\",\n",
    "        f\"Social        =~ {' + '.join(items['Social'])}\",\n",
    "        f\"Governance    =~ {' + '.join(items['Governance'])}\",\n",
    "        \"CDR =~ Environmental + Social + Governance\",\n",
    "        \"CDR ~~ 1*CDR\",\n",
    "    ])\n",
    "\n",
    "def model_2f_env_vs_socgov(items):\n",
    "    env = items['Environmental']\n",
    "    sg  = items['Social'] + items['Governance']\n",
    "    return \"\\n\".join([\n",
    "        f\"Env =~ {' + '.join(env)}\",\n",
    "        f\"Sg  =~ {' + '.join(sg)}\",\n",
    "        \"Env ~~ 1*Env\",\n",
    "        \"Sg ~~ 1*Sg\",\n",
    "        \"Env ~~ Sg\",\n",
    "    ])\n",
    "\n",
    "def model_1f(items):\n",
    "    all_items = items['Environmental'] + items['Social'] + items['Governance']\n",
    "    return \"\\n\".join([\n",
    "        f\"CDR =~ {' + '.join(all_items)}\",\n",
    "        \"CDR ~~ 1*CDR\",\n",
    "    ])\n",
    "\n",
    "MODELS = {\n",
    "    \"3F_first_order\":    model_3f(ITEMS),\n",
    "    \"2ND_order\":         model_2nd(ITEMS),\n",
    "    \"2F_Env_vs_SocGov\":  model_2f_env_vs_socgov(ITEMS),\n",
    "    \"1F_all_items\":      model_1f(ITEMS),\n",
    "}\n",
    "\n",
    "fits, models, loadings, corrs, heywood_flags = {}, {}, {}, {}, {}\n",
    "for label, mdl in MODELS.items():\n",
    "    m, f = fit_and_fitstats(mdl, data_all, obj=\"MLW\")\n",
    "    L, C = extract_std(m, ALL_COLS)\n",
    "    L = L.merge(meta[[\"Tagged\",\"Item\",\"Domain_Theory\",\"Num\"]], on=\"Tagged\", how=\"left\")\n",
    "    fits[label], models[label], loadings[label], corrs[label] = f, m, L, C\n",
    "    heywood_flags[label] = L[L[\"Std_Loading\"].abs() > 1]\n",
    "\n",
    "# ---------- CFA Pretty printing (SECOND) ----------\n",
    "cmp = pd.DataFrame.from_dict(fits, orient=\"index\")[[\"Chi2\",\"df\",\"p\",\"CFI\",\"TLI\",\"RMSEA\",\"SRMR\",\"AIC\",\"BIC\",\"N\"]].copy()\n",
    "cmp_round = cmp.copy()\n",
    "for c in [\"Chi2\",\"AIC\",\"BIC\"]: cmp_round[c] = cmp_round[c].map(lambda x: round(x,2))\n",
    "for c in [\"CFI\",\"TLI\",\"RMSEA\",\"SRMR\",\"p\"]: cmp_round[c] = cmp_round[c].map(lambda x: round(x,6) if pd.notna(x) else x)\n",
    "cmp_round[\"df\"] = cmp_round[\"df\"].astype(int)\n",
    "cmp_round[\"N\"]  = cmp_round[\"N\"].astype(int)\n",
    "\n",
    "display(Markdown(\"# ✅ CFA model comparison (3F vs 2ND vs 2F vs 1F)\"))\n",
    "display(Markdown(md_table(cmp_round.reset_index().rename(columns={\"index\":\"Model\"}), index=False)))\n",
    "\n",
    "for label in MODELS.keys():\n",
    "    display(Markdown(f\"### Model: `{label}`\"))\n",
    "    display(Markdown(\"**Specification**\"))\n",
    "    display(Markdown(\"```text\\n\" + MODELS[label] + \"\\n```\"))\n",
    "    f = pd.DataFrame([fits[label]])\n",
    "    f_show = f.copy()\n",
    "    for c in [\"Chi2\",\"AIC\",\"BIC\"]: f_show[c] = f_show[c].map(lambda x: round(x,2))\n",
    "    for c in [\"CFI\",\"TLI\",\"RMSEA\",\"SRMR\",\"p\"]: f_show[c] = f_show[c].map(lambda x: round(x,6) if pd.notna(x) else x)\n",
    "    f_show[\"df\"] = f_show[\"df\"].astype(int); f_show[\"N\"] = f_show[\"N\"].astype(int)\n",
    "    display(Markdown(\"**Fit indices**\"))\n",
    "    display(Markdown(md_table(f_show, index=False)))\n",
    "\n",
    "    display(Markdown(\"**Factor correlations (standardized)**\"))\n",
    "    C = corrs[label]\n",
    "    if C is not None and (not C.empty):\n",
    "        C2 = C.copy(); C2[\"r\"] = C2[\"r\"].map(lambda x: round(x,6))\n",
    "        display(Markdown(md_table(C2, index=False)))\n",
    "    else:\n",
    "        display(Markdown(\"_n/a (no freely estimated factor covariances in this model)_\"))\n",
    "\n",
    "    L = loadings[label].copy()\n",
    "    if \"Std_Loading\" in L.columns and not L.empty:\n",
    "        L[\"Std_Loading\"] = L[\"Std_Loading\"].map(lambda x: round(x,6))\n",
    "        for fac in L[\"Factor\"].dropna().unique():\n",
    "            blk = L[L[\"Factor\"] == fac].sort_values(\"Std_Loading\", ascending=False)[\n",
    "                [\"Tagged\",\"Item\",\"Domain_Theory\",\"Std_Loading\"]\n",
    "            ]\n",
    "            display(Markdown(f\"**Standardized loadings — {fac}**\"))\n",
    "            display(Markdown(md_table(blk, index=False)))\n",
    "    else:\n",
    "        display(Markdown(\"_No loadings extracted._\"))\n",
    "\n",
    "    hey = heywood_flags[label]\n",
    "    if hey is not None and not hey.empty:\n",
    "        display(Markdown(\"> ⚠️ **Heywood check**: |standardized loading| > 1\"))\n",
    "        hh = hey.copy(); hh[\"Std_Loading\"] = hh[\"Std_Loading\"].map(lambda x: round(x,6))\n",
    "        display(Markdown(md_table(hh[[\"Factor\",\"Tagged\",\"Item\",\"Domain_Theory\",\"Std_Loading\"]], index=False)))\n",
    "\n",
    "# ================================================\n",
    "# 4) Reliability + Domain scores + Descriptives + Plot (THIRD)\n",
    "# ================================================\n",
    "domain_frames = {dom: data_all[ITEMS[dom]] for dom in [\"Environmental\",\"Social\",\"Governance\"]}\n",
    "rel_rows = []\n",
    "for dom, frame in domain_frames.items():\n",
    "    rel_rows.append({\"Domain\": dom, \"k\": frame.shape[1], \"Cronbach_α\": round(cronbach_alpha(frame), 3) if frame.shape[1] >= 2 else np.nan})\n",
    "reliability_df = pd.DataFrame(rel_rows)\n",
    "save_csv(\"02_reliability.csv\", reliability_df)\n",
    "save_md(\"02_reliability.md\", \"# Reliability — CDR expectations\\n\\n\" + md_table(reliability_df, index=False))\n",
    "\n",
    "scores = {dom: row_mean_with_min(domain_frames[dom], min_prop=0.5) for dom in [\"Environmental\",\"Social\",\"Governance\"]}\n",
    "scores_df = pd.DataFrame(scores, index=data_all.index)\n",
    "scores_df[\"CDR_total\"] = scores_df.mean(axis=1)\n",
    "save_csv(\"08_rq2_domain_scores.csv\", scores_df.reset_index(drop=True))\n",
    "\n",
    "desc_rows = []\n",
    "for col in [\"Environmental\",\"Social\",\"Governance\",\"CDR_total\"]:\n",
    "    s = scores_df[col].dropna()\n",
    "    n = int(s.shape[0])\n",
    "    mean = float(s.mean()) if n else np.nan\n",
    "    sd = float(s.std(ddof=1)) if n > 1 else np.nan\n",
    "    se = float(s.sem(ddof=1)) if n > 1 else np.nan\n",
    "    ci_low = mean - 1.96 * se if n > 1 else np.nan\n",
    "    ci_high = mean + 1.96 * se if n > 1 else np.nan\n",
    "    desc_rows.append({\"variable\": col, \"n\": n, \"mean\": round(mean,3) if n else np.nan,\n",
    "                      \"sd\": round(sd,3) if n>1 else np.nan, \"se\": round(se,3) if n>1 else np.nan,\n",
    "                      \"ci_low\": round(ci_low,3) if n>1 else np.nan, \"ci_high\": round(ci_high,3) if n>1 else np.nan})\n",
    "descriptives_df = pd.DataFrame(desc_rows)\n",
    "save_csv(\"03_descriptives.csv\", descriptives_df)\n",
    "save_md(\"03_descriptives.md\", \"# Descriptives — CDR expectations (domain scores)\\n\\n\" + md_table(descriptives_df, index=False))\n",
    "\n",
    "try:\n",
    "    import matplotlib.pyplot as plt\n",
    "    m = descriptives_df.set_index(\"variable\")[\"mean\"].loc[[\"Environmental\",\"Social\",\"Governance\",\"CDR_total\"]]\n",
    "    fig = plt.figure(figsize=(6, 4))\n",
    "    ax = fig.gca()\n",
    "    m.plot(kind=\"bar\", ax=ax)\n",
    "    ax.set_ylabel(\"Mean (1–7)\")\n",
    "    ax.set_title(\"CDR Expectations — Domain Means\")\n",
    "    ax.set_xticklabels([\"Environmental\",\"Social\",\"Governance\",\"CDR_total\"], rotation=0)\n",
    "    fig.tight_layout()\n",
    "    savefig_remote(fig, \"08_rq2_means.png\")\n",
    "except Exception:\n",
    "    pass\n",
    "\n",
    "# ================================================\n",
    "# 5) Codebook-anchored summary (EFA + CFA + NL wording) — printed AFTER CFA (FOURTH)\n",
    "# ================================================\n",
    "CB_MD   = rd_join(OUT_DIR, \"codebook_cdr_items.md\")\n",
    "EFA_DET = rd_join(OUT_DIR, \"08_rq2_efa_loadings_detailed.csv\")\n",
    "EFA_MAP = rd_join(OUT_DIR, \"08_rq2_item_mapping.csv\")\n",
    "OUT_CSV = rd_join(OUT_DIR, \"08_rq2_codebook_anchored.csv\")\n",
    "OUT_MD  = rd_join(OUT_DIR, \"08_rq2_codebook_anchored.md\")\n",
    "\n",
    "def read_codebook_md(remote_md_path: str) -> pd.DataFrame:\n",
    "    md = rd_read_text(remote_md_path, encoding=\"utf-8\")\n",
    "    lines = [ln.strip() for ln in md.splitlines() if ln.strip().startswith(\"|\")]\n",
    "    if len(lines) < 3:\n",
    "        raise RuntimeError(\"Codebook table not found or malformed in codebook_cdr_items.md\")\n",
    "    header = [c.strip() for c in lines[0].strip(\"|\").split(\"|\")]\n",
    "    rows = []\n",
    "    for ln in lines[2:]:\n",
    "        cells = [c.strip() for c in ln.strip(\"|\").split(\"|\")]\n",
    "        if len(cells) != len(header): continue\n",
    "        rows.append(cells)\n",
    "    df = pd.DataFrame(rows, columns=header)\n",
    "    colmap = {}\n",
    "    for c in df.columns:\n",
    "        cl = c.lower()\n",
    "        if \"variabele\" in cl: colmap[c] = \"Item\"\n",
    "        elif \"domein\" in cl: colmap[c] = \"Theory_Domain\"\n",
    "        elif \"volledige\" in cl and \"vraag\" in cl: colmap[c] = \"Item_NL_full\"\n",
    "    df = df.rename(columns=colmap)\n",
    "    for must in [\"Item\",\"Theory_Domain\",\"Item_NL_full\"]:\n",
    "        if must not in df.columns:\n",
    "            raise RuntimeError(f\"Codebook missing column: {must}\")\n",
    "    df[\"Item_NL_full\"] = (df[\"Item_NL_full\"]\n",
    "                          .str.replace(\"<br />\", \" \", regex=False)\n",
    "                          .str.replace(r\"\\s+\", \" \", regex=True)\n",
    "                          .str.strip())\n",
    "    return df\n",
    "\n",
    "codebook = read_codebook_md(CB_MD)\n",
    "efa_det  = rd_read_csv_df(EFA_DET)\n",
    "efa_map  = rd_read_csv_df(EFA_MAP) if True else None\n",
    "\n",
    "# best CFA loadings from the 3F model\n",
    "cfa_std = loadings[\"3F_first_order\"].rename(columns={\"Std_Loading\":\"Std_Loading\"})\n",
    "cfa_best = cfa_std.copy()\n",
    "cfa_best[\"abs_std\"] = cfa_best[\"Std_Loading\"].abs()\n",
    "cfa_best = cfa_best.sort_values([\"Tagged\",\"abs_std\"], ascending=[True, False]).drop_duplicates(\"Tagged\")\n",
    "cfa_best = cfa_best.drop(columns=[\"abs_std\"], errors=\"ignore\")\n",
    "\n",
    "# add numeric + tag to codebook\n",
    "def _extract_num(s):\n",
    "    m = re.search(r\"(\\d+)$\", str(s))\n",
    "    return int(m.group(1)) if m else np.nan\n",
    "codebook[\"Num\"] = codebook[\"Item\"].map(_extract_num)\n",
    "\n",
    "def _tag_from_num(n):\n",
    "    if pd.isna(n): return None\n",
    "    n = int(n)\n",
    "    if 1 <= n <= 3:   return f\"ENV_{n:02d}\"\n",
    "    if 4 <= n <= 12:  return f\"SOC_{n:02d}\"\n",
    "    if 13 <= n <= 20: return f\"GOV_{n:02d}\"\n",
    "    return None\n",
    "codebook[\"Tagged\"] = codebook[\"Num\"].map(_tag_from_num)\n",
    "codebook[\"Item_NL_short\"] = codebook[\"Item_NL_full\"].map(\n",
    "    lambda s: re.sub(r\"\\s+\", \" \", (re.search(r\"\\s-\\s(.+)$\", s).group(1).strip() if re.search(r\"\\s-\\s(.+)$\", s) else s))\n",
    ")\n",
    "\n",
    "# factor label mapping fallback\n",
    "def infer_majority_label(df_with_tagged_and_factor):\n",
    "    def tag2dom(tag):\n",
    "        t = str(tag)\n",
    "        if t.startswith(\"ENV_\"): return \"Environmental\"\n",
    "        if t.startswith(\"SOC_\"): return \"Social\"\n",
    "        if t.startswith(\"GOV_\"): return \"Governance\"\n",
    "        return \"Unknown\"\n",
    "    labels = {}\n",
    "    for fac, grp in df_with_tagged_and_factor.groupby(\"PrimaryFactor\"):\n",
    "        votes = grp[\"Tagged\"].map(tag2dom).value_counts()\n",
    "        labels[fac] = votes.idxmax() if not votes.empty else \"Unknown\"\n",
    "    return labels\n",
    "\n",
    "if efa_map is not None and set([\"Unlabeled_Factor\",\"Assigned_ESG_Label\"]).issubset(efa_map.columns):\n",
    "    fac_label_map = {row[\"Unlabeled_Factor\"]: row[\"Assigned_ESG_Label\"] for _, row in efa_map.drop_duplicates(\"Unlabeled_Factor\").iterrows()}\n",
    "else:\n",
    "    fac_label_map = infer_majority_label(efa_det)\n",
    "\n",
    "efa_det = efa_det.copy()\n",
    "efa_det[\"EFA_Factor_Label\"] = efa_det[\"PrimaryFactor\"].map(fac_label_map)\n",
    "\n",
    "final = (\n",
    "    codebook[[\"Num\",\"Item\",\"Tagged\",\"Theory_Domain\",\"Item_NL_short\",\"Item_NL_full\"]]\n",
    "    .merge(efa_det[[\"Tagged\",\"PrimaryFactor\",\"PrimaryLoading\",\"EFA_Factor_Label\"]], on=\"Tagged\", how=\"left\")\n",
    "    .merge(cfa_best[[\"Tagged\",\"Std_Loading\"]], on=\"Tagged\", how=\"left\")\n",
    ")\n",
    "final[\"Alignment\"] = np.where(final[\"Theory_Domain\"] == final[\"EFA_Factor_Label\"], \"✅ Match\", \"➡️ Shifted\")\n",
    "final = final.sort_values([\"EFA_Factor_Label\",\"PrimaryFactor\",\"Theory_Domain\",\"Num\"]).reset_index(drop=True)\n",
    "\n",
    "# Save + pretty print AFTER CFA\n",
    "rd_write_csv_df(final, OUT_CSV, index=False)\n",
    "md_show = final[[\"Item\",\"Tagged\",\"Theory_Domain\",\"EFA_Factor_Label\",\"PrimaryLoading\",\"Std_Loading\",\"Alignment\",\"Item_NL_short\"]].copy()\n",
    "md_doc = [\n",
    "    \"# RQ2 — Codebook-anchored summary (ORIGINAL NL items)\\n\",\n",
    "    f\"_Source codebook: `{posixpath.basename(CB_MD)}`_\\n\\n\",\n",
    "    md_table(md_show.round(3), index=False),\n",
    "    \"\\n\\n> Full NL item wording is included in CSV; `Item_NL_short` keeps only the stem.\\n\",\n",
    "]\n",
    "rd_write_markdown(\"\".join(md_doc), OUT_MD)\n",
    "\n",
    "display(Markdown(\"# 📘 Codebook-anchored summary (EFA + CFA)\"))\n",
    "md_show_disp = md_show.copy()\n",
    "md_show_disp[\"PrimaryLoading\"] = md_show_disp[\"PrimaryLoading\"].round(3)\n",
    "md_show_disp[\"Std_Loading\"]    = md_show_disp[\"Std_Loading\"].round(3)\n",
    "display(Markdown(md_table(md_show_disp, index=False)))\n",
    "\n",
    "# (Optional) interactive preview\n",
    "try:\n",
    "    import caas_jupyter_tools\n",
    "    caas_jupyter_tools.display_dataframe_to_user(\"08_rq2_codebook_anchored (preview)\", md_show_disp)\n",
    "except Exception:\n",
    "    pass\n",
    "\n",
    "# ================================================\n",
    "# 6) Persist ALL outputs (CFA suite + EFA)\n",
    "# ================================================\n",
    "# EFA MD (includes mapping + α table)\n",
    "efa_blocks = [\n",
    "    \"# EFA — Summary\\n\\n\",\n",
    "    \"## Adequacy\\n\",\n",
    "    md_table(adequacy_df, index=False), \"\\n\\n\",\n",
    "    \"## Factor → ESG mapping (size-based)\\n\",\n",
    "    (md_table(pd.DataFrame(map_rows), index=False) if map_rows else \"_No mapping._\"), \"\\n\\n\",\n",
    "    \"## Internal consistency (Cronbach’s α by discovered constructs)\\n\",\n",
    "    md_table(alpha_efa_df, index=False), \"\\n\\n\",\n",
    "    \"## Primary loadings by discovered factor\\n\"\n",
    "]\n",
    "for f in [\"F1\",\"F2\",\"F3\"]:\n",
    "    blk = efa_loadings[efa_loadings[\"PrimaryFactor\"] == f][[\"Tagged\",\"Item\",\"Domain_Theory\",\"PrimaryLoading\"]]\n",
    "    blk = blk.sort_values(\"PrimaryLoading\", key=lambda s: s.abs(), ascending=False)\n",
    "    efa_blocks += [f\"### {f}\\n\", md_table(blk.round(3), index=False), \"\\n\\n\"]\n",
    "save_md(\"rq2_efa_summary.md\", \"\".join(efa_blocks))\n",
    "\n",
    "# CFA model comparison + per model details\n",
    "save_csv(\"rq2_cfa_model_comparison.csv\", cmp_round.reset_index().rename(columns={\"index\":\"Model\"}))\n",
    "save_md(\"rq2_cfa_model_comparison.md\", \"# CFA model comparison\\n\\n\" + md_table(cmp_round.reset_index().rename(columns={\"index\":\"Model\"}), index=False))\n",
    "for label in MODELS.keys():\n",
    "    save_csv(f\"rq2_cfa_fit_{label}.csv\", pd.DataFrame([fits[label]]))\n",
    "    save_csv(f\"rq2_cfa_loadings_{label}.csv\", loadings[label])\n",
    "    if corrs[label] is not None and not corrs[label].empty:\n",
    "        save_csv(f\"rq2_cfa_corrs_{label}.csv\", corrs[label])\n",
    "    parts = []\n",
    "    parts.append(f\"# CFA — {label}\\n\\n\")\n",
    "    parts.append(\"## Specification\\n\")\n",
    "    parts.append(\"```text\\n\" + MODELS[label] + \"\\n```\\n\")\n",
    "    f = pd.DataFrame([fits[label]])\n",
    "    f_show = f.copy()\n",
    "    for c in [\"Chi2\",\"AIC\",\"BIC\"]: f_show[c] = f_show[c].map(lambda x: round(x,2))\n",
    "    for c in [\"CFI\",\"TLI\",\"RMSEA\",\"SRMR\",\"p\"]: f_show[c] = f_show[c].map(lambda x: round(x,6) if pd.notna(x) else x)\n",
    "    f_show[\"df\"] = f_show[\"df\"].astype(int); f_show[\"N\"] = f_show[\"N\"].astype(int)\n",
    "    parts.append(\"## Fit indices\\n\")\n",
    "    parts.append(md_table(f_show, index=False) + \"\\n\\n\")\n",
    "    parts.append(\"## Factor correlations (standardized)\\n\")\n",
    "    if corrs[label] is not None and not corrs[label].empty:\n",
    "        parts.append(md_table(corrs[label], index=False) + \"\\n\\n\")\n",
    "    else:\n",
    "        parts.append(\"_n/a_\\n\\n\")\n",
    "    L = loadings[label].copy()\n",
    "    if not L.empty:\n",
    "        for fac in L[\"Factor\"].dropna().unique():\n",
    "            blk = L[L[\"Factor\"] == fac].sort_values(\"Std_Loading\", ascending=False)[[\"Tagged\",\"Item\",\"Domain_Theory\",\"Std_Loading\"]]\n",
    "            parts.append(f\"### {fac}\\n\")\n",
    "            parts.append(md_table(blk, index=False) + \"\\n\\n\")\n",
    "    else:\n",
    "        parts.append(\"_No loadings._\\n\")\n",
    "    save_md(f\"rq2_cfa_{label}.md\", \"\".join(parts))\n",
    "\n",
    "# ================================================\n",
    "# 7) Notebook “done” banner + quick pointers\n",
    "# ================================================\n",
    "display(Markdown(\"> ✅ RQ2 complete — EFA → CFA → Reliability → Codebook summary\"))\n",
    "display(Markdown(f\"- Scree: `{rd_join(OUT_DIR, '08_rq2_efa_scree.png')}`\"))\n",
    "display(Markdown(f\"- EFA adequacy: `{rd_join(OUT_DIR, '08_rq2_efa_adequacy.csv')}`\"))\n",
    "display(Markdown(f\"- EFA loadings (detailed): `{rd_join(OUT_DIR, '08_rq2_efa_loadings_detailed.csv')}`\"))\n",
    "display(Markdown(f\"- EFA mapping: `{rd_join(OUT_DIR, '08_rq2_item_mapping.csv')}`\"))\n",
    "display(Markdown(f\"- EFA α by label: `{rd_join(OUT_DIR, '08_rq2_efa_alpha_by_label.csv')}`\"))\n",
    "display(Markdown(f\"- Codebook summary: `{OUT_CSV}` / `{OUT_MD}`\"))\n",
    "display(Markdown(f\"- CFA comparison: `{rd_join(OUT_DIR, 'rq2_cfa_model_comparison.csv')}`\"))\n",
    "display(Markdown(f\"- Reliability: `{rd_join(OUT_DIR, '02_reliability.csv')}`\"))\n",
    "display(Markdown(f\"- Scores: `{rd_join(OUT_DIR, '08_rq2_domain_scores.csv')}`\"))\n",
    "display(Markdown(f\"- Descriptives: `{rd_join(OUT_DIR, '03_descriptives.csv')}`\"))\n",
    "display(Markdown(f\"- Means plot: `{rd_join(OUT_DIR, '08_rq2_means.png')}`\"))\n"
   ]
  },
  {
   "cell_type": "markdown",
   "id": "93321393-ee68-492e-bcf8-346cb2183a48",
   "metadata": {},
   "source": [
    "```\n",
    "\n",
    "EFA summary: “An EFA suggested multiple dimensions with a stable Environmental cluster; however, Social and Governance items showed cross-domain primary loadings, indicating overlap between these domains.”\n",
    "\n",
    "Next step per prereg: “Guided by theory (ESG), we tested a confirmatory 3-factor model. The CFA fit was good (CFI/TLI≈.97; RMSEA≈.05), and loadings were strong (.62–.83), supporting the intended E/S/G structure.”\n",
    "\n",
    "Structure refinement: “Given very high interfactor correlations, we additionally specified and evaluated a second-order CDR model (and, optionally, a bifactor as sensitivity).”\n",
    "\n",
    "```"
   ]
  },
  {
   "cell_type": "markdown",
   "id": "0e0b599d-57a8-4df5-a4d6-21165ebfec98",
   "metadata": {},
   "source": [
    "# RQ2 — EFA CONCLUSIONS\n",
    "\n",
    "**Goal:** Examine whether the theorised three-factor structure of *Corporate Digital Responsibility* (Environmental, Social, Governance — ESG) is supported empirically.\n",
    "\n",
    "---\n",
    "\n",
    "## Overall pattern\n",
    "- **Environmental items (ECDR 1–3)** all loaded clearly on an *Environmental* factor → **perfect theoretical match** (✅).  \n",
    "  → Focus on ecological footprint, energy use, and recycling of digital devices.\n",
    "- **Social items** split into two groups:  \n",
    "  - Four items (SCDR 5, 9, 11, 12) aligned with the *Social* factor (✅).  \n",
    "  - Several “people-oriented responsibility” items (SCDR 4, 6, 7, 8, 10) instead loaded with Governance-type items (➡️ shifted).\n",
    "- **Governance items (GCDR 13–20)** all clustered together — but this cluster aligned with the *Social* factor (➡️ shifted), suggesting that data-protection and transparency practices were perceived by respondents as part of *social* digital responsibility rather than “governance” in a narrow sense.\n",
    "\n",
    "---\n",
    "\n",
    "## 📊 Alignment counts\n",
    "| Domain (theory) | Items in domain | ✅ Match | ➡️ Shifted | Main shift target |\n",
    "|:----------------|----------------:|---------:|------------:|:-----------------|\n",
    "| Environmental   | 3 | 3 | 0 | – |\n",
    "| Social          | 9 | 4 | 5 | → Governance |\n",
    "| Governance      | 8 | 0 | 8 | → Social |\n",
    "\n",
    "**Overall match rate:** 7 / 20 items ≈ 35 %.\n",
    "\n",
    "---\n",
    "\n",
    "## Interpretive summary\n",
    "- Respondents clearly distinguished *environmental* responsibility, reproducing the theoretical subscale.\n",
    "- Boundaries between *social* and *governance* aspects blurred:\n",
    "  - Social-type items about *well-being, inclusiveness, and fair AI* mixed with Governance-type concerns (e.g., compliance, transparency).\n",
    "  - Governance-type items on *data protection and accountability* were interpreted as *social* obligations toward users and society.\n",
    "- This suggests that in public perception, **data-governance and social responsibility form one combined moral domain**, rather than two separable ESG dimensions.\n",
    "\n",
    "---\n",
    "\n",
    "## Implication\n",
    "The empirical structure implies a possible **two-factor solution**:\n",
    "1. *Environmental digital responsibility*  \n",
    "2. *Socio-governance responsibility* (merging social + governance ethics)\n",
    "\n",
    "This pattern aligns with qualitative interpretations of CDR where “responsible data use” and “fair technology” are socially framed rather than institutionally governed.\n",
    "\n",
    "---\n",
    "\n",
    "> Exploratory analysis confirmed a distinct *Environmental* factor, while *Social* and *Governance* items loaded on a shared dimension, indicating that participants perceive corporate data and social ethics as one integrated sphere of digital responsibility.\n"
   ]
  },
  {
   "cell_type": "markdown",
   "id": "cf6f6800-c513-417d-9091-03e965c55808",
   "metadata": {},
   "source": [
    "# Measurement Summary for RQ2 (EFA → CFA) and Alignment with Preregistration\n",
    "\n",
    "\n",
    "---\n",
    "\n",
    "## CFA (Confirmatory Factor Analysis)\n",
    "\n",
    "| Model | χ² | df | p | CFI | TLI | RMSEA | SRMR | N |\n",
    "|---|---:|---:|---:|---:|---:|---:|---:|---:|\n",
    "| **2ND_order** (CDR → Env, Soc, Gov) | **1070.11** | 168 | <.001 | **.973** | **.970** | **.049** | .111 | 2214 |\n",
    "| 3F_first_order (Env, Soc, Gov, correlated) | 1152.92 | 170 | <.001 | .971 | .967 | .051 | **.102** | 2214 |\n",
    "| 2F_Env_vs_SocGov | 1328.24 | 171 | <.001 | .966 | .962 | .055 | .112 | 2214 |\n",
    "| 1F_all_items | 1634.85 | 171 | <.001 | .956 | .952 | .062 | .116 | 2214 |\n",
    "\n",
    "### Summary\n",
    "- **Best fit:** The **second-order model** (CDR → Environmental, Social, Governance) showed the best overall fit with **CFI = .973**, **TLI = .970**, and **RMSEA = .049**.  \n",
    "- **Three-factor model** also fit very well (**CFI = .971**, **RMSEA = .051**) but factor correlations were very high (Environmental–Social ≈ .90; Environmental–Governance ≈ .86), indicating strong overlap.  \n",
    "- **Two- and one-factor models** fit clearly worse (CFI < .97, RMSEA > .055).  \n",
    "\n",
    "### Loadings & Heywood Cases\n",
    "- Standardized loadings were very high across all models, with several exceeding 1.0 (Heywood cases).  \n",
    "- These likely reflect **strong factor intercorrelations and high communalities**, not improper estimation, given the large sample size (N=2214).  \n",
    "- Interpretation focuses on factor-level and domain-level constructs rather than single items.  \n",
    "- For robustness, future sensitivity with ordinal estimators (e.g., WLSMV) is recommended.\n",
    "\n",
    "---\n",
    "\n",
    "## Alignment with Preregistration\n",
    "\n",
    "### Preregistered Plan\n",
    "- Treat **CDR_total** as the **primary outcome**, and report **domain scores** (Environmental, Social, Governance) as **secondary**.  \n",
    "- Conduct EFA → CFA to verify the theoretical 3-factor ESG structure; if confirmed, test predictors via SEM (RQ3).  \n",
    "- If CFA fails, use composite domain and total scores.\n",
    "\n",
    "### Empirical Outcome\n",
    "- Both **EFA and CFA** support a three-factor structure consistent with theory.  \n",
    "- The **second-order model** provides the best global fit, supporting the presence of a **general CDR factor** above the three ESG domains.  \n",
    "- Therefore, the preregistered decision to use **CDR_total** as the primary dependent variable is empirically justified, and domain scores remain valid secondary outcomes.\n",
    "\n",
    "### Implementation for Analyses\n",
    "1. **RQ2:**  \n",
    "   - Report means and descriptives for each domain and overall CDR_total score.  \n",
    "   - Note that the second-order model fits best (CFI≈.973, RMSEA≈.049).\n",
    "\n",
    "2. **RQ3 (Predictors and Moderation):**  \n",
    "   - Model predictors of CDR expectations using the second-order latent CDR factor (or composite CDR_total).  \n",
    "   - For **H3a** and **H3b**, model domain-specific effects (Environmental and Social).  \n",
    "   - Include **corporate trust** as moderator in both domain and higher-order models (RQ3.2).\n",
    "\n",
    "3. **Caveats:**  \n",
    "   - Report and interpret Heywood cases.  \n",
    "   - Mention high factor correlations and communalities as expected for conceptually related ESG domains.\n",
    "\n",
    "---\n",
    "## EFA vs. Theory (Correction)\n",
    "\n",
    "Exploratory factor analysis (MINRES, oblimin) recovered **three oblique factors**, but **only the Environmental cluster was clean**. \n",
    "The other two factors showed **substantial mixing between Social and Governance items** (several Governance items loading primarily with the Social cluster and vice versa). \n",
    "While the **factor sizes** were close to the expected 3 / 9 / 8, the **content alignment** of Social vs. Governance was **not cleanly replicated** in EFA (see the codebook-anchored table showing multiple “➡️ Shifted” items).\n",
    "\n",
    "**Implication:** Because EFA did not unambiguously reproduce the intended Social vs. Governance split, we proceeded — as preregistered — to **theory-constrained CFA** to test ESG structures.\n",
    "\n",
    "## Conclusions\n",
    "\n",
    "*Exploratory factor analysis (oblimin rotation) supported a three-factor structure aligned with Environmental (3 items), Social (9 items), and Governance (8 items). Confirmatory factor analyses indicated excellent fit for both a correlated three-factor model and a second-order model in which a higher-order CDR factor loads on the three domains. The second-order model provided the best overall fit (χ²(168)=1070.11, CFI=.973, TLI=.970, RMSEA=.049; N=2214). Factor correlations in the three-factor model were high (Environmental–Social r≈.90; Environmental–Governance r≈.86), suggesting a strong general CDR dimension. Several standardized loadings exceeded 1.0 (Heywood cases), likely due to high communalities and factor intercorrelations. We therefore focus on latent and composite domain-level interpretations. Consistent with preregistration, we treat the overall CDR score as the primary dependent variable and domain-specific scores as secondary. For RQ3, we model both domain-specific effects (H3a, H3b) and higher-order CDR effects, including moderation by corporate trust.*\n",
    "\n",
    "---\n",
    "\n"
   ]
  }
 ],
 "metadata": {
  "kernelspec": {
   "display_name": "Python 3 (ipykernel)",
   "language": "python",
   "name": "python3"
  },
  "language_info": {
   "codemirror_mode": {
    "name": "ipython",
    "version": 3
   },
   "file_extension": ".py",
   "mimetype": "text/x-python",
   "name": "python",
   "nbconvert_exporter": "python",
   "pygments_lexer": "ipython3",
   "version": "3.10.12"
  }
 },
 "nbformat": 4,
 "nbformat_minor": 5
}
